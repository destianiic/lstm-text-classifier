{
  "cells": [
    {
      "cell_type": "code",
      "execution_count": 2,
      "metadata": {
        "colab": {
          "base_uri": "https://localhost:8080/"
        },
        "id": "k3Ns17c4qlwa",
        "outputId": "560bcee5-1972-4daa-edf4-62b473cf9490"
      },
      "outputs": [
        {
          "output_type": "stream",
          "name": "stdout",
          "text": [
            "Mounted at /content/drive\n"
          ]
        }
      ],
      "source": [
        "from google.colab import drive\n",
        "drive.mount('/content/drive')"
      ]
    },
    {
      "cell_type": "markdown",
      "source": [
        "## INSTALLING AND IMPORTING LIBRARIES"
      ],
      "metadata": {
        "id": "7ws1YV3wykiF"
      }
    },
    {
      "cell_type": "code",
      "execution_count": 3,
      "metadata": {
        "id": "yp3Fb-gque3I"
      },
      "outputs": [],
      "source": [
        "import sys\n",
        "sys.path.append('/content/drive/MyDrive/LSTM')"
      ]
    },
    {
      "cell_type": "code",
      "execution_count": 35,
      "metadata": {
        "colab": {
          "base_uri": "https://localhost:8080/"
        },
        "id": "E5QKu8anZ4la",
        "outputId": "17db16e9-c7bd-495c-dd3b-6f3ee442d30c"
      },
      "outputs": [
        {
          "output_type": "stream",
          "name": "stdout",
          "text": [
            "Requirement already satisfied: Sastrawi in /usr/local/lib/python3.11/dist-packages (1.0.1)\n",
            "Requirement already satisfied: pytypo in /usr/local/lib/python3.11/dist-packages (0.3.0)\n"
          ]
        }
      ],
      "source": [
        "!pip install Sastrawi\n",
        "!pip install pytypo"
      ]
    },
    {
      "cell_type": "code",
      "execution_count": 7,
      "metadata": {
        "colab": {
          "base_uri": "https://localhost:8080/"
        },
        "id": "a-p9Wb7Cctp8",
        "outputId": "bc15c060-211e-40b4-a088-a31578b2b823"
      },
      "outputs": [
        {
          "output_type": "stream",
          "name": "stdout",
          "text": [
            "['yang', 'untuk', 'pada', 'ke', 'para', 'namun', 'menurut', 'antara', 'dia', 'dua', 'ia', 'seperti', 'jika', 'jika', 'sehingga', 'kembali', 'dan', 'tidak', 'ini', 'karena', 'kepada', 'oleh', 'saat', 'harus', 'sementara', 'setelah', 'belum', 'kami', 'sekitar', 'bagi', 'serta', 'di', 'dari', 'telah', 'sebagai', 'masih', 'hal', 'ketika', 'adalah', 'itu', 'dalam', 'bisa', 'bahwa', 'atau', 'hanya', 'kita', 'dengan', 'akan', 'juga', 'ada', 'mereka', 'sudah', 'saya', 'terhadap', 'secara', 'agar', 'lain', 'anda', 'begitu', 'mengapa', 'kenapa', 'yaitu', 'yakni', 'daripada', 'itulah', 'lagi', 'maka', 'tentang', 'demi', 'dimana', 'kemana', 'pula', 'sambil', 'sebelum', 'sesudah', 'supaya', 'guna', 'kah', 'pun', 'sampai', 'sedangkan', 'selagi', 'sementara', 'tetapi', 'apakah', 'kecuali', 'sebab', 'selain', 'seolah', 'seraya', 'seterusnya', 'tanpa', 'agak', 'boleh', 'dapat', 'dsb', 'dst', 'dll', 'dahulu', 'dulunya', 'anu', 'demikian', 'tapi', 'ingin', 'juga', 'nggak', 'mari', 'nanti', 'melainkan', 'oh', 'ok', 'seharusnya', 'sebetulnya', 'setiap', 'setidaknya', 'sesuatu', 'pasti', 'saja', 'toh', 'ya', 'walau', 'tolong', 'tentu', 'amat', 'apalagi', 'bagaimanapun', 'dengan', 'ia', 'bahwa', 'oleh']\n"
          ]
        }
      ],
      "source": [
        "#STOPWORDS IN BAHASA\n",
        "\n",
        "stop_factory = StopWordRemoverFactory()\n",
        "more_stopword = [\"dengan\", \"ia\", \"bahwa\", \"oleh\"]\n",
        "data = stop_factory.get_stop_words()+more_stopword\n",
        "stopword = stop_factory.create_stop_word_remover()\n",
        "print(data)"
      ]
    },
    {
      "cell_type": "markdown",
      "source": [
        "## LOAD DATASET AND DATA UNDERSTANDING"
      ],
      "metadata": {
        "id": "soV31RPJyuKf"
      }
    },
    {
      "cell_type": "code",
      "execution_count": 8,
      "metadata": {
        "id": "WSTCWk8naWCn"
      },
      "outputs": [],
      "source": [
        "df = pd.read_csv('/content/drive/MyDrive/LSTM/sentiment.csv', sep =';', encoding = 'latin1', names = ('text', 'sentiment'))"
      ]
    },
    {
      "cell_type": "code",
      "execution_count": 9,
      "metadata": {
        "colab": {
          "base_uri": "https://localhost:8080/",
          "height": 206
        },
        "id": "7A605n-2MXLP",
        "outputId": "3b3d387d-cbf6-4112-f781-3fd6448228e8"
      },
      "outputs": [
        {
          "output_type": "execute_result",
          "data": {
            "text/plain": [
              "                                                text sentiment\n",
              "0  Sebagai perusahaan asuransi jiwa berbasis digi...  positive\n",
              "1  Jakarta CNN Indonesia  Presiden Joko Widodo me...  positive\n",
              "2  JAKARTA  Bandara SoekarnoHatta dinobatkan seba...  positive\n",
              "3  Kamis 02 Sep 2021 Jawa Pos Radar Radar Menu   ...  positive\n",
              "4  Pemerintah melaksanakan berbagai program dan k...  positive"
            ],
            "text/html": [
              "\n",
              "  <div id=\"df-d374d947-d352-4992-8f63-b479f71a3e92\" class=\"colab-df-container\">\n",
              "    <div>\n",
              "<style scoped>\n",
              "    .dataframe tbody tr th:only-of-type {\n",
              "        vertical-align: middle;\n",
              "    }\n",
              "\n",
              "    .dataframe tbody tr th {\n",
              "        vertical-align: top;\n",
              "    }\n",
              "\n",
              "    .dataframe thead th {\n",
              "        text-align: right;\n",
              "    }\n",
              "</style>\n",
              "<table border=\"1\" class=\"dataframe\">\n",
              "  <thead>\n",
              "    <tr style=\"text-align: right;\">\n",
              "      <th></th>\n",
              "      <th>text</th>\n",
              "      <th>sentiment</th>\n",
              "    </tr>\n",
              "  </thead>\n",
              "  <tbody>\n",
              "    <tr>\n",
              "      <th>0</th>\n",
              "      <td>Sebagai perusahaan asuransi jiwa berbasis digi...</td>\n",
              "      <td>positive</td>\n",
              "    </tr>\n",
              "    <tr>\n",
              "      <th>1</th>\n",
              "      <td>Jakarta CNN Indonesia  Presiden Joko Widodo me...</td>\n",
              "      <td>positive</td>\n",
              "    </tr>\n",
              "    <tr>\n",
              "      <th>2</th>\n",
              "      <td>JAKARTA  Bandara SoekarnoHatta dinobatkan seba...</td>\n",
              "      <td>positive</td>\n",
              "    </tr>\n",
              "    <tr>\n",
              "      <th>3</th>\n",
              "      <td>Kamis 02 Sep 2021 Jawa Pos Radar Radar Menu   ...</td>\n",
              "      <td>positive</td>\n",
              "    </tr>\n",
              "    <tr>\n",
              "      <th>4</th>\n",
              "      <td>Pemerintah melaksanakan berbagai program dan k...</td>\n",
              "      <td>positive</td>\n",
              "    </tr>\n",
              "  </tbody>\n",
              "</table>\n",
              "</div>\n",
              "    <div class=\"colab-df-buttons\">\n",
              "\n",
              "  <div class=\"colab-df-container\">\n",
              "    <button class=\"colab-df-convert\" onclick=\"convertToInteractive('df-d374d947-d352-4992-8f63-b479f71a3e92')\"\n",
              "            title=\"Convert this dataframe to an interactive table.\"\n",
              "            style=\"display:none;\">\n",
              "\n",
              "  <svg xmlns=\"http://www.w3.org/2000/svg\" height=\"24px\" viewBox=\"0 -960 960 960\">\n",
              "    <path d=\"M120-120v-720h720v720H120Zm60-500h600v-160H180v160Zm220 220h160v-160H400v160Zm0 220h160v-160H400v160ZM180-400h160v-160H180v160Zm440 0h160v-160H620v160ZM180-180h160v-160H180v160Zm440 0h160v-160H620v160Z\"/>\n",
              "  </svg>\n",
              "    </button>\n",
              "\n",
              "  <style>\n",
              "    .colab-df-container {\n",
              "      display:flex;\n",
              "      gap: 12px;\n",
              "    }\n",
              "\n",
              "    .colab-df-convert {\n",
              "      background-color: #E8F0FE;\n",
              "      border: none;\n",
              "      border-radius: 50%;\n",
              "      cursor: pointer;\n",
              "      display: none;\n",
              "      fill: #1967D2;\n",
              "      height: 32px;\n",
              "      padding: 0 0 0 0;\n",
              "      width: 32px;\n",
              "    }\n",
              "\n",
              "    .colab-df-convert:hover {\n",
              "      background-color: #E2EBFA;\n",
              "      box-shadow: 0px 1px 2px rgba(60, 64, 67, 0.3), 0px 1px 3px 1px rgba(60, 64, 67, 0.15);\n",
              "      fill: #174EA6;\n",
              "    }\n",
              "\n",
              "    .colab-df-buttons div {\n",
              "      margin-bottom: 4px;\n",
              "    }\n",
              "\n",
              "    [theme=dark] .colab-df-convert {\n",
              "      background-color: #3B4455;\n",
              "      fill: #D2E3FC;\n",
              "    }\n",
              "\n",
              "    [theme=dark] .colab-df-convert:hover {\n",
              "      background-color: #434B5C;\n",
              "      box-shadow: 0px 1px 3px 1px rgba(0, 0, 0, 0.15);\n",
              "      filter: drop-shadow(0px 1px 2px rgba(0, 0, 0, 0.3));\n",
              "      fill: #FFFFFF;\n",
              "    }\n",
              "  </style>\n",
              "\n",
              "    <script>\n",
              "      const buttonEl =\n",
              "        document.querySelector('#df-d374d947-d352-4992-8f63-b479f71a3e92 button.colab-df-convert');\n",
              "      buttonEl.style.display =\n",
              "        google.colab.kernel.accessAllowed ? 'block' : 'none';\n",
              "\n",
              "      async function convertToInteractive(key) {\n",
              "        const element = document.querySelector('#df-d374d947-d352-4992-8f63-b479f71a3e92');\n",
              "        const dataTable =\n",
              "          await google.colab.kernel.invokeFunction('convertToInteractive',\n",
              "                                                    [key], {});\n",
              "        if (!dataTable) return;\n",
              "\n",
              "        const docLinkHtml = 'Like what you see? Visit the ' +\n",
              "          '<a target=\"_blank\" href=https://colab.research.google.com/notebooks/data_table.ipynb>data table notebook</a>'\n",
              "          + ' to learn more about interactive tables.';\n",
              "        element.innerHTML = '';\n",
              "        dataTable['output_type'] = 'display_data';\n",
              "        await google.colab.output.renderOutput(dataTable, element);\n",
              "        const docLink = document.createElement('div');\n",
              "        docLink.innerHTML = docLinkHtml;\n",
              "        element.appendChild(docLink);\n",
              "      }\n",
              "    </script>\n",
              "  </div>\n",
              "\n",
              "\n",
              "    <div id=\"df-d7c82362-6169-406a-8bf8-997ce3999392\">\n",
              "      <button class=\"colab-df-quickchart\" onclick=\"quickchart('df-d7c82362-6169-406a-8bf8-997ce3999392')\"\n",
              "                title=\"Suggest charts\"\n",
              "                style=\"display:none;\">\n",
              "\n",
              "<svg xmlns=\"http://www.w3.org/2000/svg\" height=\"24px\"viewBox=\"0 0 24 24\"\n",
              "     width=\"24px\">\n",
              "    <g>\n",
              "        <path d=\"M19 3H5c-1.1 0-2 .9-2 2v14c0 1.1.9 2 2 2h14c1.1 0 2-.9 2-2V5c0-1.1-.9-2-2-2zM9 17H7v-7h2v7zm4 0h-2V7h2v10zm4 0h-2v-4h2v4z\"/>\n",
              "    </g>\n",
              "</svg>\n",
              "      </button>\n",
              "\n",
              "<style>\n",
              "  .colab-df-quickchart {\n",
              "      --bg-color: #E8F0FE;\n",
              "      --fill-color: #1967D2;\n",
              "      --hover-bg-color: #E2EBFA;\n",
              "      --hover-fill-color: #174EA6;\n",
              "      --disabled-fill-color: #AAA;\n",
              "      --disabled-bg-color: #DDD;\n",
              "  }\n",
              "\n",
              "  [theme=dark] .colab-df-quickchart {\n",
              "      --bg-color: #3B4455;\n",
              "      --fill-color: #D2E3FC;\n",
              "      --hover-bg-color: #434B5C;\n",
              "      --hover-fill-color: #FFFFFF;\n",
              "      --disabled-bg-color: #3B4455;\n",
              "      --disabled-fill-color: #666;\n",
              "  }\n",
              "\n",
              "  .colab-df-quickchart {\n",
              "    background-color: var(--bg-color);\n",
              "    border: none;\n",
              "    border-radius: 50%;\n",
              "    cursor: pointer;\n",
              "    display: none;\n",
              "    fill: var(--fill-color);\n",
              "    height: 32px;\n",
              "    padding: 0;\n",
              "    width: 32px;\n",
              "  }\n",
              "\n",
              "  .colab-df-quickchart:hover {\n",
              "    background-color: var(--hover-bg-color);\n",
              "    box-shadow: 0 1px 2px rgba(60, 64, 67, 0.3), 0 1px 3px 1px rgba(60, 64, 67, 0.15);\n",
              "    fill: var(--button-hover-fill-color);\n",
              "  }\n",
              "\n",
              "  .colab-df-quickchart-complete:disabled,\n",
              "  .colab-df-quickchart-complete:disabled:hover {\n",
              "    background-color: var(--disabled-bg-color);\n",
              "    fill: var(--disabled-fill-color);\n",
              "    box-shadow: none;\n",
              "  }\n",
              "\n",
              "  .colab-df-spinner {\n",
              "    border: 2px solid var(--fill-color);\n",
              "    border-color: transparent;\n",
              "    border-bottom-color: var(--fill-color);\n",
              "    animation:\n",
              "      spin 1s steps(1) infinite;\n",
              "  }\n",
              "\n",
              "  @keyframes spin {\n",
              "    0% {\n",
              "      border-color: transparent;\n",
              "      border-bottom-color: var(--fill-color);\n",
              "      border-left-color: var(--fill-color);\n",
              "    }\n",
              "    20% {\n",
              "      border-color: transparent;\n",
              "      border-left-color: var(--fill-color);\n",
              "      border-top-color: var(--fill-color);\n",
              "    }\n",
              "    30% {\n",
              "      border-color: transparent;\n",
              "      border-left-color: var(--fill-color);\n",
              "      border-top-color: var(--fill-color);\n",
              "      border-right-color: var(--fill-color);\n",
              "    }\n",
              "    40% {\n",
              "      border-color: transparent;\n",
              "      border-right-color: var(--fill-color);\n",
              "      border-top-color: var(--fill-color);\n",
              "    }\n",
              "    60% {\n",
              "      border-color: transparent;\n",
              "      border-right-color: var(--fill-color);\n",
              "    }\n",
              "    80% {\n",
              "      border-color: transparent;\n",
              "      border-right-color: var(--fill-color);\n",
              "      border-bottom-color: var(--fill-color);\n",
              "    }\n",
              "    90% {\n",
              "      border-color: transparent;\n",
              "      border-bottom-color: var(--fill-color);\n",
              "    }\n",
              "  }\n",
              "</style>\n",
              "\n",
              "      <script>\n",
              "        async function quickchart(key) {\n",
              "          const quickchartButtonEl =\n",
              "            document.querySelector('#' + key + ' button');\n",
              "          quickchartButtonEl.disabled = true;  // To prevent multiple clicks.\n",
              "          quickchartButtonEl.classList.add('colab-df-spinner');\n",
              "          try {\n",
              "            const charts = await google.colab.kernel.invokeFunction(\n",
              "                'suggestCharts', [key], {});\n",
              "          } catch (error) {\n",
              "            console.error('Error during call to suggestCharts:', error);\n",
              "          }\n",
              "          quickchartButtonEl.classList.remove('colab-df-spinner');\n",
              "          quickchartButtonEl.classList.add('colab-df-quickchart-complete');\n",
              "        }\n",
              "        (() => {\n",
              "          let quickchartButtonEl =\n",
              "            document.querySelector('#df-d7c82362-6169-406a-8bf8-997ce3999392 button');\n",
              "          quickchartButtonEl.style.display =\n",
              "            google.colab.kernel.accessAllowed ? 'block' : 'none';\n",
              "        })();\n",
              "      </script>\n",
              "    </div>\n",
              "\n",
              "    </div>\n",
              "  </div>\n"
            ],
            "application/vnd.google.colaboratory.intrinsic+json": {
              "type": "dataframe",
              "variable_name": "df",
              "summary": "{\n  \"name\": \"df\",\n  \"rows\": 1500,\n  \"fields\": [\n    {\n      \"column\": \"text\",\n      \"properties\": {\n        \"dtype\": \"string\",\n        \"num_unique_values\": 1480,\n        \"samples\": [\n          \"Beberapa waktu lalu Indonesia sempat dihantui oleh kelebihan stok produksi minyak sawit. Bahkan di tingkat petani harga per kg tandan buah segar (TBS) sawit jadi sangat rendah hanya di kisaran Rp700 hingga Rp900. Kelebihan stok inilah yang konon justru jadi awal mula kisruh kelangkaan minyak goreng saat ini. Kala itu harga CPO adalah yang terendah dalam 10 tahun terakhir. Itu terjadi pada pertengahan November 2018. Saat itu harga berada di kisaran Rp6.009.690 per ton. Hal ini disebabkan oleh tingginya stok minyak nabati global seperti sawit kedelai biji bunga matahari dan rapeseed. Sehingga harga minyak nabati secara global pun turun. Seakan memperparah permintaan minyak nabati di pasar global pun rendah. Pemerintah Indonesia saat itu menyiapkan 2 strategi untuk menahan laju penurunan harga yakni pengendalian dari sisi penawaran dan permintaan: Pada 2019 harga tidak menunjukkan perbaikan bahkan lebih rendah dibandingkan tahun sebelumnya year-on-year. Kondisi berubah sejak pandemi COVID 19 merebak di saat itu permintaan minyak sawit menunjukkan peningkatan yang cukup signifikan. Cuaca tidak menentu disrupsi terhadap rantai pasok karena Covid-19 kekurangan tenaga kerja di Malaysia menurunnya penggunaan pupuk karena harga meningkat serta bangkitnya ekonomi negara-negara konsumen utama minyak sawit menjadi katalis melambungnya harga minyak sawit saat ini. Bahkan harga CPO mencapai titik tertinggi sepanjang sejarah. Tepatnya pada akhir Januari lalu. Meskipun pada awal-awal pandemi sempat mengalami kontraksi menyebabkan volume ekspor berkurang tetapi minyak sawit bisa bertahan. Harga CPO pada 2020 mulai membaik di dalam negeri ini didorong oleh peningkatan konsumsi biodiesel karena peningkatan blending mandatori biodiesel menjadi B30 dari B20 dan juga peningkatan konsumsi produk kebersihan dan antiseptik. Permintaan minyak sawit pada tahun-tahun pandemi pun lebih stabil bahkan cenderung meningkat seiring dengan membaiknya ekonomi di beberapa negara seperti China Pakistan India dan Amerika. Yang menjadi perhatian banyak pihak adalah ketersediaan minyak sawit. Beberapa pakar menyebutkan produksi puncak yang biasa terjadi pada kuartal ketiga setiap tahunnya tidak terjadi pada 2021 sehingga ada kemungkinan permintaan tidak dapat dipenuhi. Salah satunya permintaan bahan baku untuk produksi minyak goreng. Jika melihat harga bulanan minyak goreng (Gambar 2) sebetulnya pada 2019 dan 2020 harganya cukup stabil. Ada fluktuasi di masing-masing tahun tersebut tapi tidak besar. Paling hanya sekitar 1-3 persen kenaikan harganya. Itupun kadang terjadi penurunan harga meskipun kecil sekitar 0 4-0 8 persen. Anomali mulai terjadi pada tahun 2021 khususnya pada kuartal empat tahun 2021. Sebabnya karena stok bahan baku minyak goreng mulai menipis. Produksi yang diperkirakan memuncak pada kuartal tiga 2021 ternyata tidak terealisasi. Hal tersebut menyebabkan terjadinya kelangkaan bahan baku minyak goreng. Sehingga harga minyak goreng pun mulai meroket. Terlihat pada gambar 2 harga mulai meroket sejak Oktober 2021. Yang sebelumnya hanya Rp16.050 per liter pada September 2021 pada Oktober 2021 naik 3 7 persen menjadi Rp16.650 per liter. Pada bulan November 2021 bahkan lebih gila lagi naik 9 persen. Yang awalnya Rp16.650 per liter pada Oktober naik menjadi Rp18.150 per liter pada November. Desember harga naik lagi 6 9 persen. Puncak tertinggi terjadi pada Januari 2022 lalu yang mencapai Rp 20.150 per liter atau naik sebesar 3 9 persen. Meroketnya harga minyak goreng memicu pemerintah untuk melakukan intervensi. Awalnya pemerintah memberlakukan kebijakan minyak goreng satu harga dengan Harga Eceran Tertinggi (HET) Rp14.000 per liter. Harga tersebut diback up oleh subsidi dari anggaran Badan Pengelola Dana Perkebunan Kelapa Sawit (BPDPKS). Kebijakan yang semula direncanakan akan berlaku hingga enam bulan tersebut diubah pada akhir Januari 2022 lalu dengan skema dan instrumen baru. Karena perubahan kebijakan yang cepat para produsen distributor maupun peritel membutuhkan waktu untuk menyesuaikan dengan kebijakan yang ada. Dampaknya stok minyak goreng menjadi langka di pasaran. Setelah sebelumnya menerapkan kebijakan minyak goreng satu harga. Akhir Januari 2022 lalu pemerintah keluarkan kebijakan teranyar yakni kewajiban distribusi kebutuhan dalam negeri (Domestic Market Obligation/DMO) menetapkan harga penjualan di dalam negeri (Domestic Price Obligation/DPO) memberlakukan persetujuan ekspor dan menentukan HET berdasarkan kemasan minyak goreng. Kebijakan baru tersebut adalah hasil evaluasi dari kebijakan minyak goreng satu harga. Kementerian Perdagangan mengklaim langkah ini sebagai langkah yang paling efektif menjaga harga minyak goreng di pasaran. Pemerintah menyiasati masalah minyak goreng ini dengan mengondisikan hulu dan hilirnya. Pertama dengan mewajibkan pemenuhan kebutuhan pasar domestik (DMO) sebesar 20 persen dari volume ekspor minyak sawit mentah (CPO) dan RBD Palm Olein serta menetapkan harga penjualan dalam negeri (DPO) untuk CPO sebesar Rp9.300 per kg dan Rp10.300 per liter untuk RBD Palm Olein itu dari sisi hulunya untuk memastikan kebutuhan bahan baku minyak goreng di dalam negeri terpenuhi. Langkah selanjutnya adalah dengan Persetujuan Ekspor. Persetujuan ekspor akan diberikan kepada eksportir yang telah merealisasikan DMO dan DPO dengan bukti realisasi distribusi dalam negeri berupa purchase order delivery order dan lain-lain. Kebijakan DMO DPO dan Persetujuan Ekspor ini juga secara resmi memperkenalkan diskresi yang kuat dalam sistem perdagangan minyak sawit kita khususnya dalam hal pengaturan alokasi ekspor. Kebijakan tersebut juga mungkin menimbulkan atau bahkan memperkuat kartel ekspor minyak sawit serta aktivitas rent-seeking secara umum. Dari sisi hilir pemerintah menetapkan HET berdasarkan kemasan minyak goreng-tertuang dalam Peraturan Menteri Perdagangan RI Nomor 6 Tahun 2022. Untuk minyak goreng curah harga eceran tertingginya ditetapkan sebesar Rp11.500 minyak goreng sederhana Rp13.500 dan minyak goreng kemasan premium Rp14.000. Kebijakan ini untuk menghindari terjadinya penjualan minyak goreng dengan harga yang terlampau tinggi. Karena bahan baku minyak goreng sudah dibuat terjangkau. Tujuan utama pemerintah menerapkan serangkaian kebijakan ini adalah memastikan agar ketersediaan bahan baku minyak goreng di dalam negeri terjaga dari fluktuasi harga internasional. Selain itu harga jualnya juga tidak bisa tinggi lagi lantaran pemerintah sudah menjamin volume dan harganya. Refined Palm Oil (RPO) atau yang biasa dikenal juga sebagai Refined Bleached Deodorised Palm Oil (RBDPO) adalah bahan baku produk-produk turunan minyak sawit seperti minyak goreng margarin dan mentega. Umumnya setelah melalui proses fraksinasi 80 persen dari RPO akan menjadi palm olein dan 20 persen lainnya akan menjadi palm stearin. Bahan baku utama minyak goreng adalah palm olein sementara palm stearin adalah bahan baku utama margarin dan mentega. Dua tahun belakangan 2020 dan 2021 ekspor RPO meningkat masing-masing 27 persen dan 34 persen dibandingkan dengan tahun sebelumnya. Sepanjang 2021 Indonesia telah mengekspor RPO dengan volume mencapai 7 5 juta ton. Dari total ekspor tersebut 75 persennya di ekspor ke 10 negara terbanyak ke Pakistan. Berdasarkan data Trase 2015 eksportir RPO paling besar adalah Wilmar. Berikut 10 grup teratas eksportir RPO sepanjang tahun 2015. </p><p>Karena keterbatasan data eksportir maka penulis menggunakan data yang tersedia di publik yakni data yang tersedia pada platform <em>trase.earth</em> tahun 2015. Dengan gambaran data di atas kemungkinan grup-grup yang melakukan eksportir pada 2021 adalah grup-grup tersebut juga. Perubahan mungkin akan terjadi pada peringkat tapi tidak pada grup-grup eksportir tersebut.</p><p>Grup-grup eksportir di atas adalah pemain besar dengan jaringan perdagangan dan fondasi yang kuat serta memiliki pengaruh besar dalam rantai nilai minyak sawit secara global. Dan pemain kunci di dalam industri sawit secara keseluruhan tidak lain dan tidak bukan adalah grup-grup tersebut.</p><p><strong><span>Terkunci Minyak Sawit oleh Pemain Kunci</span></strong></p><p><em><span>Trase</span></em><span> memperlihatkan jauh lebih banyak perusahaan yang beroperasi pada tahap perkebunan dan pabrik pengolahan dibandingkan tahap kilang dan ekspor. Konsentrasi kepemilikan di tahap kilang dapat disebabkan oleh besarnya modal yang dibutuhkan.</span></p><p>Dominasi sejumlah kecil pedagang di tingkat ekspor pada rantai pasok juga dapat menjadi konsekuensi langsung dari terbatasnya jumlah kelompok yang mengendalikan aset fasilitas kilang dan bulking.</p><p>Kepemilikan (konsentrasi horizontal) di rantai tingkat perkebunan pengolahan pengilangan dan ekspor (CPO + RPO).</p><p><img src= Karena keterbatasan data eksportir maka penulis menggunakan data yang tersedia di publik yakni data yang tersedia pada platform trase.earth. Dengan gambaran data di atas kemungkinan grup-grup yang melakukan eksportir pada 2021 adalah grup-grup tersebut juga. Perubahan mungkin akan terjadi pada peringkat tapi tidak pada grup-grup eksportir tersebut. Grup-grup eksportir di atas adalah pemain besar dengan jaringan perdagangan dan fondasi yang kuat serta memiliki pengaruh besar dalam rantai nilai minyak sawit secara global. Dan pemain kunci di dalam industri sawit secara keseluruhan tidak lain dan tidak bukan adalah grup-grup tersebut. Tarif ekspor adalah instrumen perdagangan internasional yang dapat menjadi pilihan di antara kebijakan lainnya untuk membatasi ekspor. Kebijakan pungutan ekspor adalah salah satu bentuk dari tarif ekspor. Dengan aturan tersebut setiap produk minyak sawit yang diekspor akan dikenakan tarif tertentu ketika harga CPO mencapai harga tertentu. Saat ini Indonesia menganut tarif ekspor yang progresif namun hanya sampai harga CPO USD1000 per ton. Di atas harga itu tarif menjadi tetap. Ketika harga CPO di bawah atau sama dengan USD750 per ton maka setiap ton ekspor RBDPO akan dikenakan pungutan ekspor sebesar USD25. Sementara ketika harga CPO di atas USD1000 per ton maka setiap ton RBDPO akan dikenakan pungutan sebesar USD121 per ton. Ini seperti yang tertuang dalam Peraturan Menteri Keuangan Nomor 76 Tahun 2021. Sesuai dengan harga referensi yang telah ditetapkan oleh Kementerian Perdagangan melalui Peraturan Menteri Perdagangan Nomor 5 Tahun 2022. Harga referensi CPO yang mulai berlaku pada 1 Februari 2022 adalah USD1.314 78 per ton. Artinya saat ini tarif pungutan ekspor adalah USD121 per ton. Untuk menjaga stok kebutuhan minyak sawit dalam negeri pemerintah dapat membatasi ekspor minyak sawit dengan menyesuaikan tarif pungutan ekspor ketika harga di atas USD1000 per ton dan seterusnya. Atau dengan kata lain menghapus tarif tetap pungutan ekspor ketika harga di atas USD1000 per ton. Maka tarif pungutan ekspor dapat menjadi seperti gambar berikut: Dengan menambah klasifikasi harga pada tarif pungutan ekspor pemerintah juga mengharmoniskan ketentuan tarif pungutan ekspor dengan kebijakan tarif pada bea keluar. Saat ini patokan bea keluar klasifikasi harganya mencapai lebih dari USD1250 per ton atau kolom 12 sebutannya dalam tarif bea keluar. Berdasarkan data yang terhimpun. Persoalan kelangkaan bahan baku minyak goreng yang berimbas pada meningkatnya harga kemudian stok minyak goreng itu sendiri setidaknya juga dipengaruhi oleh perilaku bisnis pemain CPO yang lebih memilih mengekspor RPO ketimbang memastikan bahan baku minyak goreng itu di dalam negeri cukup. Dalam hal ini kontrol pemerintah dalam memastikan bahan baku minyak goreng dalam negeri tercukupi juga lemah. Agar di kemudian hari persoalan serupa tidak terulang maka menetapkan tarif progresif pada pungutan ekspor untuk harga CPO di atas USD1000 per ton adalah pilihan bijak. Langkah tersebut akan menekan harga domestik dan meningkatkan harga internasional serta menurunkan volume ekspor. Secara teoritis masyarakat Indonesia akan menerima keuntungan karena memiliki \\\"kemampuan\\\" membeli minyak sawit yang lebih baik daripada konsumen di luar negeri.\",\n          \" Beberapa waktu terakhir sempat ramai diberitakan adanya klaster Covid19 saat sekolah melalukan Pembelajaran Tatap Muka (PTM). Menteri Pendidikan Kebudayaan Riset dan Teknologi Nadiem Makarim mengatakan angka yang tersebar merupakan data kumulatif bukan\",\n          \"Badan SAR Nasional (Basarnas) sangat sigap dalam mengevakuasi pembalap MotoGP yang mengalami kecelakaan. Seperti kecelakaan yang dialami Marc Marquez saat beraksi di Pertamina Mandalika International Street Circuit di Kabupaten Lombok Tengah Nusa Tenggara Barat. Kesigapan tim Basarnas mengevakuasi pembalap Marc Marquez mendapat apresiasi dari Dorna Sport . Kepala Basarnas Marsekal Madya TNI Henri Alfiandi melalui keterangan resmi yang diterima di Mataram Minggu mengatakan apresiasi tersebut diberikan Dorna Sport setelah salah satu pembalap yakni Marc Marquez terjatuh dan membutuhkan proses evakuasi dengan cepat. \\\"Dear Chief convay our appreciation to Indonesia Search & Rescue for the responsiveness in carrying out their duty \\\" kata Henri menyampaikan pesan tertulis Dorna yang disampaikan melalui telepon genggam (HP) dikutip dari Antara Minggu 20 Maret 2022. Henri juga turun langsung ke lapangan meninjau kesiapsiagaan seluruh personel Basarnas dalam melakukan tindakan pertolongan. Jenderal bintang tiga itu juga mengatakan bahwa pihaknya memang perlu terlibat secara langsung dalam MotoGP Mandalika 2022 karena mengundang banyak penonton dan memiliki potensi adanya permintaan pertolongan dari tim SAR. Lebih lanjut ia mengaku sangat bangga dan tidak menduga jika Dorna memilih Basarnas untuk menjadi tim pengamanan SAR selama ajang MotoGP Mandalika berlangsung. \\\"Awalnya mereka sangat tidak percaya begitu disampaikan kemampuan Basarnas Dorna langsung percaya dan meminta Basarnas terlibat secara langsung. Ini merupakan kejutan dan kebanggaan bagi kami terpilih menjadi marshal flag \\\" ujarnya. Dalam kesempatan MotoGP Mandalika Basarnas yang tadinya menyiagakan satu unit helikopter di event perdana diminta untuk menyiapkan dua unit helikopter. Selain itu Basarnas juga menyiagakan Rigid Inflatable Boat (RIB) untuk mengantisipasi semua kejadian yang membutuhkan pelayanan SAR dengan cepat. RIB adalah jenis perahu multipurpose yang bisa di gunakan untuk berbagai keperluan dan dalam berbagai kondisi cuaca. \\\"Kita tidak mengharapkan terjadi insiden apapun namun semua itu di luar kuasa dan Basarnas siap memberikan pelayanan pertolongan sehingga pemerintah dan masyarakat merasa yakin dan aman dengan kehadiran Basarnas di arena balap internasional tersebut \\\" ucap Henri. *** Editor: Karman Sumber: ANTARA\"\n        ],\n        \"semantic_type\": \"\",\n        \"description\": \"\"\n      }\n    },\n    {\n      \"column\": \"sentiment\",\n      \"properties\": {\n        \"dtype\": \"category\",\n        \"num_unique_values\": 3,\n        \"samples\": [\n          \"positive\",\n          \"neutral\",\n          \"negative\"\n        ],\n        \"semantic_type\": \"\",\n        \"description\": \"\"\n      }\n    }\n  ]\n}"
            }
          },
          "metadata": {},
          "execution_count": 9
        }
      ],
      "source": [
        "df.head()"
      ]
    },
    {
      "cell_type": "code",
      "execution_count": 10,
      "metadata": {
        "colab": {
          "base_uri": "https://localhost:8080/"
        },
        "id": "eVmOfZykaeFQ",
        "outputId": "464e34e4-b82c-4151-b9ff-883c2f440438"
      },
      "outputs": [
        {
          "output_type": "execute_result",
          "data": {
            "text/plain": [
              "Index(['text', 'sentiment'], dtype='object')"
            ]
          },
          "metadata": {},
          "execution_count": 10
        }
      ],
      "source": [
        "df.columns"
      ]
    },
    {
      "cell_type": "code",
      "execution_count": 11,
      "metadata": {
        "colab": {
          "base_uri": "https://localhost:8080/",
          "height": 423
        },
        "id": "4XhnmzMTJ2Gl",
        "outputId": "5d8f082e-253c-4cd8-b676-7e2d857c1cd4"
      },
      "outputs": [
        {
          "output_type": "execute_result",
          "data": {
            "text/plain": [
              "                                                  text sentiment\n",
              "0    Sebagai perusahaan asuransi jiwa berbasis digi...  positive\n",
              "1    Jakarta CNN Indonesia  Presiden Joko Widodo me...  positive\n",
              "2    JAKARTA  Bandara SoekarnoHatta dinobatkan seba...  positive\n",
              "3    Kamis 02 Sep 2021 Jawa Pos Radar Radar Menu   ...  positive\n",
              "4    Pemerintah melaksanakan berbagai program dan k...  positive\n",
              "..                                                 ...       ...\n",
              "995  Akhirnya setelah proses konstruksi yang memaka...   neutral\n",
              "996  Rupanya dengan insiden dua Bobotoh meninggal d...   neutral\n",
              "997  Laut Natuna atau Laut China Selatan memiliki k...   neutral\n",
              "998  Kamis 23 Juni 2022 Network Pikiran Rakyat Gowa...   neutral\n",
              "999  Selasa 21 Juni 2022 Network Pikiran Rakyat Gow...   neutral\n",
              "\n",
              "[1000 rows x 2 columns]"
            ],
            "text/html": [
              "\n",
              "  <div id=\"df-be96f139-0bef-44a4-a49b-26c4000ae792\" class=\"colab-df-container\">\n",
              "    <div>\n",
              "<style scoped>\n",
              "    .dataframe tbody tr th:only-of-type {\n",
              "        vertical-align: middle;\n",
              "    }\n",
              "\n",
              "    .dataframe tbody tr th {\n",
              "        vertical-align: top;\n",
              "    }\n",
              "\n",
              "    .dataframe thead th {\n",
              "        text-align: right;\n",
              "    }\n",
              "</style>\n",
              "<table border=\"1\" class=\"dataframe\">\n",
              "  <thead>\n",
              "    <tr style=\"text-align: right;\">\n",
              "      <th></th>\n",
              "      <th>text</th>\n",
              "      <th>sentiment</th>\n",
              "    </tr>\n",
              "  </thead>\n",
              "  <tbody>\n",
              "    <tr>\n",
              "      <th>0</th>\n",
              "      <td>Sebagai perusahaan asuransi jiwa berbasis digi...</td>\n",
              "      <td>positive</td>\n",
              "    </tr>\n",
              "    <tr>\n",
              "      <th>1</th>\n",
              "      <td>Jakarta CNN Indonesia  Presiden Joko Widodo me...</td>\n",
              "      <td>positive</td>\n",
              "    </tr>\n",
              "    <tr>\n",
              "      <th>2</th>\n",
              "      <td>JAKARTA  Bandara SoekarnoHatta dinobatkan seba...</td>\n",
              "      <td>positive</td>\n",
              "    </tr>\n",
              "    <tr>\n",
              "      <th>3</th>\n",
              "      <td>Kamis 02 Sep 2021 Jawa Pos Radar Radar Menu   ...</td>\n",
              "      <td>positive</td>\n",
              "    </tr>\n",
              "    <tr>\n",
              "      <th>4</th>\n",
              "      <td>Pemerintah melaksanakan berbagai program dan k...</td>\n",
              "      <td>positive</td>\n",
              "    </tr>\n",
              "    <tr>\n",
              "      <th>...</th>\n",
              "      <td>...</td>\n",
              "      <td>...</td>\n",
              "    </tr>\n",
              "    <tr>\n",
              "      <th>995</th>\n",
              "      <td>Akhirnya setelah proses konstruksi yang memaka...</td>\n",
              "      <td>neutral</td>\n",
              "    </tr>\n",
              "    <tr>\n",
              "      <th>996</th>\n",
              "      <td>Rupanya dengan insiden dua Bobotoh meninggal d...</td>\n",
              "      <td>neutral</td>\n",
              "    </tr>\n",
              "    <tr>\n",
              "      <th>997</th>\n",
              "      <td>Laut Natuna atau Laut China Selatan memiliki k...</td>\n",
              "      <td>neutral</td>\n",
              "    </tr>\n",
              "    <tr>\n",
              "      <th>998</th>\n",
              "      <td>Kamis 23 Juni 2022 Network Pikiran Rakyat Gowa...</td>\n",
              "      <td>neutral</td>\n",
              "    </tr>\n",
              "    <tr>\n",
              "      <th>999</th>\n",
              "      <td>Selasa 21 Juni 2022 Network Pikiran Rakyat Gow...</td>\n",
              "      <td>neutral</td>\n",
              "    </tr>\n",
              "  </tbody>\n",
              "</table>\n",
              "<p>1000 rows × 2 columns</p>\n",
              "</div>\n",
              "    <div class=\"colab-df-buttons\">\n",
              "\n",
              "  <div class=\"colab-df-container\">\n",
              "    <button class=\"colab-df-convert\" onclick=\"convertToInteractive('df-be96f139-0bef-44a4-a49b-26c4000ae792')\"\n",
              "            title=\"Convert this dataframe to an interactive table.\"\n",
              "            style=\"display:none;\">\n",
              "\n",
              "  <svg xmlns=\"http://www.w3.org/2000/svg\" height=\"24px\" viewBox=\"0 -960 960 960\">\n",
              "    <path d=\"M120-120v-720h720v720H120Zm60-500h600v-160H180v160Zm220 220h160v-160H400v160Zm0 220h160v-160H400v160ZM180-400h160v-160H180v160Zm440 0h160v-160H620v160ZM180-180h160v-160H180v160Zm440 0h160v-160H620v160Z\"/>\n",
              "  </svg>\n",
              "    </button>\n",
              "\n",
              "  <style>\n",
              "    .colab-df-container {\n",
              "      display:flex;\n",
              "      gap: 12px;\n",
              "    }\n",
              "\n",
              "    .colab-df-convert {\n",
              "      background-color: #E8F0FE;\n",
              "      border: none;\n",
              "      border-radius: 50%;\n",
              "      cursor: pointer;\n",
              "      display: none;\n",
              "      fill: #1967D2;\n",
              "      height: 32px;\n",
              "      padding: 0 0 0 0;\n",
              "      width: 32px;\n",
              "    }\n",
              "\n",
              "    .colab-df-convert:hover {\n",
              "      background-color: #E2EBFA;\n",
              "      box-shadow: 0px 1px 2px rgba(60, 64, 67, 0.3), 0px 1px 3px 1px rgba(60, 64, 67, 0.15);\n",
              "      fill: #174EA6;\n",
              "    }\n",
              "\n",
              "    .colab-df-buttons div {\n",
              "      margin-bottom: 4px;\n",
              "    }\n",
              "\n",
              "    [theme=dark] .colab-df-convert {\n",
              "      background-color: #3B4455;\n",
              "      fill: #D2E3FC;\n",
              "    }\n",
              "\n",
              "    [theme=dark] .colab-df-convert:hover {\n",
              "      background-color: #434B5C;\n",
              "      box-shadow: 0px 1px 3px 1px rgba(0, 0, 0, 0.15);\n",
              "      filter: drop-shadow(0px 1px 2px rgba(0, 0, 0, 0.3));\n",
              "      fill: #FFFFFF;\n",
              "    }\n",
              "  </style>\n",
              "\n",
              "    <script>\n",
              "      const buttonEl =\n",
              "        document.querySelector('#df-be96f139-0bef-44a4-a49b-26c4000ae792 button.colab-df-convert');\n",
              "      buttonEl.style.display =\n",
              "        google.colab.kernel.accessAllowed ? 'block' : 'none';\n",
              "\n",
              "      async function convertToInteractive(key) {\n",
              "        const element = document.querySelector('#df-be96f139-0bef-44a4-a49b-26c4000ae792');\n",
              "        const dataTable =\n",
              "          await google.colab.kernel.invokeFunction('convertToInteractive',\n",
              "                                                    [key], {});\n",
              "        if (!dataTable) return;\n",
              "\n",
              "        const docLinkHtml = 'Like what you see? Visit the ' +\n",
              "          '<a target=\"_blank\" href=https://colab.research.google.com/notebooks/data_table.ipynb>data table notebook</a>'\n",
              "          + ' to learn more about interactive tables.';\n",
              "        element.innerHTML = '';\n",
              "        dataTable['output_type'] = 'display_data';\n",
              "        await google.colab.output.renderOutput(dataTable, element);\n",
              "        const docLink = document.createElement('div');\n",
              "        docLink.innerHTML = docLinkHtml;\n",
              "        element.appendChild(docLink);\n",
              "      }\n",
              "    </script>\n",
              "  </div>\n",
              "\n",
              "\n",
              "    <div id=\"df-94e72d08-dadd-4e44-bb96-b1411c32bd36\">\n",
              "      <button class=\"colab-df-quickchart\" onclick=\"quickchart('df-94e72d08-dadd-4e44-bb96-b1411c32bd36')\"\n",
              "                title=\"Suggest charts\"\n",
              "                style=\"display:none;\">\n",
              "\n",
              "<svg xmlns=\"http://www.w3.org/2000/svg\" height=\"24px\"viewBox=\"0 0 24 24\"\n",
              "     width=\"24px\">\n",
              "    <g>\n",
              "        <path d=\"M19 3H5c-1.1 0-2 .9-2 2v14c0 1.1.9 2 2 2h14c1.1 0 2-.9 2-2V5c0-1.1-.9-2-2-2zM9 17H7v-7h2v7zm4 0h-2V7h2v10zm4 0h-2v-4h2v4z\"/>\n",
              "    </g>\n",
              "</svg>\n",
              "      </button>\n",
              "\n",
              "<style>\n",
              "  .colab-df-quickchart {\n",
              "      --bg-color: #E8F0FE;\n",
              "      --fill-color: #1967D2;\n",
              "      --hover-bg-color: #E2EBFA;\n",
              "      --hover-fill-color: #174EA6;\n",
              "      --disabled-fill-color: #AAA;\n",
              "      --disabled-bg-color: #DDD;\n",
              "  }\n",
              "\n",
              "  [theme=dark] .colab-df-quickchart {\n",
              "      --bg-color: #3B4455;\n",
              "      --fill-color: #D2E3FC;\n",
              "      --hover-bg-color: #434B5C;\n",
              "      --hover-fill-color: #FFFFFF;\n",
              "      --disabled-bg-color: #3B4455;\n",
              "      --disabled-fill-color: #666;\n",
              "  }\n",
              "\n",
              "  .colab-df-quickchart {\n",
              "    background-color: var(--bg-color);\n",
              "    border: none;\n",
              "    border-radius: 50%;\n",
              "    cursor: pointer;\n",
              "    display: none;\n",
              "    fill: var(--fill-color);\n",
              "    height: 32px;\n",
              "    padding: 0;\n",
              "    width: 32px;\n",
              "  }\n",
              "\n",
              "  .colab-df-quickchart:hover {\n",
              "    background-color: var(--hover-bg-color);\n",
              "    box-shadow: 0 1px 2px rgba(60, 64, 67, 0.3), 0 1px 3px 1px rgba(60, 64, 67, 0.15);\n",
              "    fill: var(--button-hover-fill-color);\n",
              "  }\n",
              "\n",
              "  .colab-df-quickchart-complete:disabled,\n",
              "  .colab-df-quickchart-complete:disabled:hover {\n",
              "    background-color: var(--disabled-bg-color);\n",
              "    fill: var(--disabled-fill-color);\n",
              "    box-shadow: none;\n",
              "  }\n",
              "\n",
              "  .colab-df-spinner {\n",
              "    border: 2px solid var(--fill-color);\n",
              "    border-color: transparent;\n",
              "    border-bottom-color: var(--fill-color);\n",
              "    animation:\n",
              "      spin 1s steps(1) infinite;\n",
              "  }\n",
              "\n",
              "  @keyframes spin {\n",
              "    0% {\n",
              "      border-color: transparent;\n",
              "      border-bottom-color: var(--fill-color);\n",
              "      border-left-color: var(--fill-color);\n",
              "    }\n",
              "    20% {\n",
              "      border-color: transparent;\n",
              "      border-left-color: var(--fill-color);\n",
              "      border-top-color: var(--fill-color);\n",
              "    }\n",
              "    30% {\n",
              "      border-color: transparent;\n",
              "      border-left-color: var(--fill-color);\n",
              "      border-top-color: var(--fill-color);\n",
              "      border-right-color: var(--fill-color);\n",
              "    }\n",
              "    40% {\n",
              "      border-color: transparent;\n",
              "      border-right-color: var(--fill-color);\n",
              "      border-top-color: var(--fill-color);\n",
              "    }\n",
              "    60% {\n",
              "      border-color: transparent;\n",
              "      border-right-color: var(--fill-color);\n",
              "    }\n",
              "    80% {\n",
              "      border-color: transparent;\n",
              "      border-right-color: var(--fill-color);\n",
              "      border-bottom-color: var(--fill-color);\n",
              "    }\n",
              "    90% {\n",
              "      border-color: transparent;\n",
              "      border-bottom-color: var(--fill-color);\n",
              "    }\n",
              "  }\n",
              "</style>\n",
              "\n",
              "      <script>\n",
              "        async function quickchart(key) {\n",
              "          const quickchartButtonEl =\n",
              "            document.querySelector('#' + key + ' button');\n",
              "          quickchartButtonEl.disabled = true;  // To prevent multiple clicks.\n",
              "          quickchartButtonEl.classList.add('colab-df-spinner');\n",
              "          try {\n",
              "            const charts = await google.colab.kernel.invokeFunction(\n",
              "                'suggestCharts', [key], {});\n",
              "          } catch (error) {\n",
              "            console.error('Error during call to suggestCharts:', error);\n",
              "          }\n",
              "          quickchartButtonEl.classList.remove('colab-df-spinner');\n",
              "          quickchartButtonEl.classList.add('colab-df-quickchart-complete');\n",
              "        }\n",
              "        (() => {\n",
              "          let quickchartButtonEl =\n",
              "            document.querySelector('#df-94e72d08-dadd-4e44-bb96-b1411c32bd36 button');\n",
              "          quickchartButtonEl.style.display =\n",
              "            google.colab.kernel.accessAllowed ? 'block' : 'none';\n",
              "        })();\n",
              "      </script>\n",
              "    </div>\n",
              "\n",
              "    </div>\n",
              "  </div>\n"
            ],
            "application/vnd.google.colaboratory.intrinsic+json": {
              "type": "dataframe",
              "variable_name": "data",
              "summary": "{\n  \"name\": \"data\",\n  \"rows\": 1500,\n  \"fields\": [\n    {\n      \"column\": \"text\",\n      \"properties\": {\n        \"dtype\": \"string\",\n        \"num_unique_values\": 1480,\n        \"samples\": [\n          \"Beberapa waktu lalu Indonesia sempat dihantui oleh kelebihan stok produksi minyak sawit. Bahkan di tingkat petani harga per kg tandan buah segar (TBS) sawit jadi sangat rendah hanya di kisaran Rp700 hingga Rp900. Kelebihan stok inilah yang konon justru jadi awal mula kisruh kelangkaan minyak goreng saat ini. Kala itu harga CPO adalah yang terendah dalam 10 tahun terakhir. Itu terjadi pada pertengahan November 2018. Saat itu harga berada di kisaran Rp6.009.690 per ton. Hal ini disebabkan oleh tingginya stok minyak nabati global seperti sawit kedelai biji bunga matahari dan rapeseed. Sehingga harga minyak nabati secara global pun turun. Seakan memperparah permintaan minyak nabati di pasar global pun rendah. Pemerintah Indonesia saat itu menyiapkan 2 strategi untuk menahan laju penurunan harga yakni pengendalian dari sisi penawaran dan permintaan: Pada 2019 harga tidak menunjukkan perbaikan bahkan lebih rendah dibandingkan tahun sebelumnya year-on-year. Kondisi berubah sejak pandemi COVID 19 merebak di saat itu permintaan minyak sawit menunjukkan peningkatan yang cukup signifikan. Cuaca tidak menentu disrupsi terhadap rantai pasok karena Covid-19 kekurangan tenaga kerja di Malaysia menurunnya penggunaan pupuk karena harga meningkat serta bangkitnya ekonomi negara-negara konsumen utama minyak sawit menjadi katalis melambungnya harga minyak sawit saat ini. Bahkan harga CPO mencapai titik tertinggi sepanjang sejarah. Tepatnya pada akhir Januari lalu. Meskipun pada awal-awal pandemi sempat mengalami kontraksi menyebabkan volume ekspor berkurang tetapi minyak sawit bisa bertahan. Harga CPO pada 2020 mulai membaik di dalam negeri ini didorong oleh peningkatan konsumsi biodiesel karena peningkatan blending mandatori biodiesel menjadi B30 dari B20 dan juga peningkatan konsumsi produk kebersihan dan antiseptik. Permintaan minyak sawit pada tahun-tahun pandemi pun lebih stabil bahkan cenderung meningkat seiring dengan membaiknya ekonomi di beberapa negara seperti China Pakistan India dan Amerika. Yang menjadi perhatian banyak pihak adalah ketersediaan minyak sawit. Beberapa pakar menyebutkan produksi puncak yang biasa terjadi pada kuartal ketiga setiap tahunnya tidak terjadi pada 2021 sehingga ada kemungkinan permintaan tidak dapat dipenuhi. Salah satunya permintaan bahan baku untuk produksi minyak goreng. Jika melihat harga bulanan minyak goreng (Gambar 2) sebetulnya pada 2019 dan 2020 harganya cukup stabil. Ada fluktuasi di masing-masing tahun tersebut tapi tidak besar. Paling hanya sekitar 1-3 persen kenaikan harganya. Itupun kadang terjadi penurunan harga meskipun kecil sekitar 0 4-0 8 persen. Anomali mulai terjadi pada tahun 2021 khususnya pada kuartal empat tahun 2021. Sebabnya karena stok bahan baku minyak goreng mulai menipis. Produksi yang diperkirakan memuncak pada kuartal tiga 2021 ternyata tidak terealisasi. Hal tersebut menyebabkan terjadinya kelangkaan bahan baku minyak goreng. Sehingga harga minyak goreng pun mulai meroket. Terlihat pada gambar 2 harga mulai meroket sejak Oktober 2021. Yang sebelumnya hanya Rp16.050 per liter pada September 2021 pada Oktober 2021 naik 3 7 persen menjadi Rp16.650 per liter. Pada bulan November 2021 bahkan lebih gila lagi naik 9 persen. Yang awalnya Rp16.650 per liter pada Oktober naik menjadi Rp18.150 per liter pada November. Desember harga naik lagi 6 9 persen. Puncak tertinggi terjadi pada Januari 2022 lalu yang mencapai Rp 20.150 per liter atau naik sebesar 3 9 persen. Meroketnya harga minyak goreng memicu pemerintah untuk melakukan intervensi. Awalnya pemerintah memberlakukan kebijakan minyak goreng satu harga dengan Harga Eceran Tertinggi (HET) Rp14.000 per liter. Harga tersebut diback up oleh subsidi dari anggaran Badan Pengelola Dana Perkebunan Kelapa Sawit (BPDPKS). Kebijakan yang semula direncanakan akan berlaku hingga enam bulan tersebut diubah pada akhir Januari 2022 lalu dengan skema dan instrumen baru. Karena perubahan kebijakan yang cepat para produsen distributor maupun peritel membutuhkan waktu untuk menyesuaikan dengan kebijakan yang ada. Dampaknya stok minyak goreng menjadi langka di pasaran. Setelah sebelumnya menerapkan kebijakan minyak goreng satu harga. Akhir Januari 2022 lalu pemerintah keluarkan kebijakan teranyar yakni kewajiban distribusi kebutuhan dalam negeri (Domestic Market Obligation/DMO) menetapkan harga penjualan di dalam negeri (Domestic Price Obligation/DPO) memberlakukan persetujuan ekspor dan menentukan HET berdasarkan kemasan minyak goreng. Kebijakan baru tersebut adalah hasil evaluasi dari kebijakan minyak goreng satu harga. Kementerian Perdagangan mengklaim langkah ini sebagai langkah yang paling efektif menjaga harga minyak goreng di pasaran. Pemerintah menyiasati masalah minyak goreng ini dengan mengondisikan hulu dan hilirnya. Pertama dengan mewajibkan pemenuhan kebutuhan pasar domestik (DMO) sebesar 20 persen dari volume ekspor minyak sawit mentah (CPO) dan RBD Palm Olein serta menetapkan harga penjualan dalam negeri (DPO) untuk CPO sebesar Rp9.300 per kg dan Rp10.300 per liter untuk RBD Palm Olein itu dari sisi hulunya untuk memastikan kebutuhan bahan baku minyak goreng di dalam negeri terpenuhi. Langkah selanjutnya adalah dengan Persetujuan Ekspor. Persetujuan ekspor akan diberikan kepada eksportir yang telah merealisasikan DMO dan DPO dengan bukti realisasi distribusi dalam negeri berupa purchase order delivery order dan lain-lain. Kebijakan DMO DPO dan Persetujuan Ekspor ini juga secara resmi memperkenalkan diskresi yang kuat dalam sistem perdagangan minyak sawit kita khususnya dalam hal pengaturan alokasi ekspor. Kebijakan tersebut juga mungkin menimbulkan atau bahkan memperkuat kartel ekspor minyak sawit serta aktivitas rent-seeking secara umum. Dari sisi hilir pemerintah menetapkan HET berdasarkan kemasan minyak goreng-tertuang dalam Peraturan Menteri Perdagangan RI Nomor 6 Tahun 2022. Untuk minyak goreng curah harga eceran tertingginya ditetapkan sebesar Rp11.500 minyak goreng sederhana Rp13.500 dan minyak goreng kemasan premium Rp14.000. Kebijakan ini untuk menghindari terjadinya penjualan minyak goreng dengan harga yang terlampau tinggi. Karena bahan baku minyak goreng sudah dibuat terjangkau. Tujuan utama pemerintah menerapkan serangkaian kebijakan ini adalah memastikan agar ketersediaan bahan baku minyak goreng di dalam negeri terjaga dari fluktuasi harga internasional. Selain itu harga jualnya juga tidak bisa tinggi lagi lantaran pemerintah sudah menjamin volume dan harganya. Refined Palm Oil (RPO) atau yang biasa dikenal juga sebagai Refined Bleached Deodorised Palm Oil (RBDPO) adalah bahan baku produk-produk turunan minyak sawit seperti minyak goreng margarin dan mentega. Umumnya setelah melalui proses fraksinasi 80 persen dari RPO akan menjadi palm olein dan 20 persen lainnya akan menjadi palm stearin. Bahan baku utama minyak goreng adalah palm olein sementara palm stearin adalah bahan baku utama margarin dan mentega. Dua tahun belakangan 2020 dan 2021 ekspor RPO meningkat masing-masing 27 persen dan 34 persen dibandingkan dengan tahun sebelumnya. Sepanjang 2021 Indonesia telah mengekspor RPO dengan volume mencapai 7 5 juta ton. Dari total ekspor tersebut 75 persennya di ekspor ke 10 negara terbanyak ke Pakistan. Berdasarkan data Trase 2015 eksportir RPO paling besar adalah Wilmar. Berikut 10 grup teratas eksportir RPO sepanjang tahun 2015. </p><p>Karena keterbatasan data eksportir maka penulis menggunakan data yang tersedia di publik yakni data yang tersedia pada platform <em>trase.earth</em> tahun 2015. Dengan gambaran data di atas kemungkinan grup-grup yang melakukan eksportir pada 2021 adalah grup-grup tersebut juga. Perubahan mungkin akan terjadi pada peringkat tapi tidak pada grup-grup eksportir tersebut.</p><p>Grup-grup eksportir di atas adalah pemain besar dengan jaringan perdagangan dan fondasi yang kuat serta memiliki pengaruh besar dalam rantai nilai minyak sawit secara global. Dan pemain kunci di dalam industri sawit secara keseluruhan tidak lain dan tidak bukan adalah grup-grup tersebut.</p><p><strong><span>Terkunci Minyak Sawit oleh Pemain Kunci</span></strong></p><p><em><span>Trase</span></em><span> memperlihatkan jauh lebih banyak perusahaan yang beroperasi pada tahap perkebunan dan pabrik pengolahan dibandingkan tahap kilang dan ekspor. Konsentrasi kepemilikan di tahap kilang dapat disebabkan oleh besarnya modal yang dibutuhkan.</span></p><p>Dominasi sejumlah kecil pedagang di tingkat ekspor pada rantai pasok juga dapat menjadi konsekuensi langsung dari terbatasnya jumlah kelompok yang mengendalikan aset fasilitas kilang dan bulking.</p><p>Kepemilikan (konsentrasi horizontal) di rantai tingkat perkebunan pengolahan pengilangan dan ekspor (CPO + RPO).</p><p><img src= Karena keterbatasan data eksportir maka penulis menggunakan data yang tersedia di publik yakni data yang tersedia pada platform trase.earth. Dengan gambaran data di atas kemungkinan grup-grup yang melakukan eksportir pada 2021 adalah grup-grup tersebut juga. Perubahan mungkin akan terjadi pada peringkat tapi tidak pada grup-grup eksportir tersebut. Grup-grup eksportir di atas adalah pemain besar dengan jaringan perdagangan dan fondasi yang kuat serta memiliki pengaruh besar dalam rantai nilai minyak sawit secara global. Dan pemain kunci di dalam industri sawit secara keseluruhan tidak lain dan tidak bukan adalah grup-grup tersebut. Tarif ekspor adalah instrumen perdagangan internasional yang dapat menjadi pilihan di antara kebijakan lainnya untuk membatasi ekspor. Kebijakan pungutan ekspor adalah salah satu bentuk dari tarif ekspor. Dengan aturan tersebut setiap produk minyak sawit yang diekspor akan dikenakan tarif tertentu ketika harga CPO mencapai harga tertentu. Saat ini Indonesia menganut tarif ekspor yang progresif namun hanya sampai harga CPO USD1000 per ton. Di atas harga itu tarif menjadi tetap. Ketika harga CPO di bawah atau sama dengan USD750 per ton maka setiap ton ekspor RBDPO akan dikenakan pungutan ekspor sebesar USD25. Sementara ketika harga CPO di atas USD1000 per ton maka setiap ton RBDPO akan dikenakan pungutan sebesar USD121 per ton. Ini seperti yang tertuang dalam Peraturan Menteri Keuangan Nomor 76 Tahun 2021. Sesuai dengan harga referensi yang telah ditetapkan oleh Kementerian Perdagangan melalui Peraturan Menteri Perdagangan Nomor 5 Tahun 2022. Harga referensi CPO yang mulai berlaku pada 1 Februari 2022 adalah USD1.314 78 per ton. Artinya saat ini tarif pungutan ekspor adalah USD121 per ton. Untuk menjaga stok kebutuhan minyak sawit dalam negeri pemerintah dapat membatasi ekspor minyak sawit dengan menyesuaikan tarif pungutan ekspor ketika harga di atas USD1000 per ton dan seterusnya. Atau dengan kata lain menghapus tarif tetap pungutan ekspor ketika harga di atas USD1000 per ton. Maka tarif pungutan ekspor dapat menjadi seperti gambar berikut: Dengan menambah klasifikasi harga pada tarif pungutan ekspor pemerintah juga mengharmoniskan ketentuan tarif pungutan ekspor dengan kebijakan tarif pada bea keluar. Saat ini patokan bea keluar klasifikasi harganya mencapai lebih dari USD1250 per ton atau kolom 12 sebutannya dalam tarif bea keluar. Berdasarkan data yang terhimpun. Persoalan kelangkaan bahan baku minyak goreng yang berimbas pada meningkatnya harga kemudian stok minyak goreng itu sendiri setidaknya juga dipengaruhi oleh perilaku bisnis pemain CPO yang lebih memilih mengekspor RPO ketimbang memastikan bahan baku minyak goreng itu di dalam negeri cukup. Dalam hal ini kontrol pemerintah dalam memastikan bahan baku minyak goreng dalam negeri tercukupi juga lemah. Agar di kemudian hari persoalan serupa tidak terulang maka menetapkan tarif progresif pada pungutan ekspor untuk harga CPO di atas USD1000 per ton adalah pilihan bijak. Langkah tersebut akan menekan harga domestik dan meningkatkan harga internasional serta menurunkan volume ekspor. Secara teoritis masyarakat Indonesia akan menerima keuntungan karena memiliki \\\"kemampuan\\\" membeli minyak sawit yang lebih baik daripada konsumen di luar negeri.\",\n          \" Beberapa waktu terakhir sempat ramai diberitakan adanya klaster Covid19 saat sekolah melalukan Pembelajaran Tatap Muka (PTM). Menteri Pendidikan Kebudayaan Riset dan Teknologi Nadiem Makarim mengatakan angka yang tersebar merupakan data kumulatif bukan\",\n          \"Badan SAR Nasional (Basarnas) sangat sigap dalam mengevakuasi pembalap MotoGP yang mengalami kecelakaan. Seperti kecelakaan yang dialami Marc Marquez saat beraksi di Pertamina Mandalika International Street Circuit di Kabupaten Lombok Tengah Nusa Tenggara Barat. Kesigapan tim Basarnas mengevakuasi pembalap Marc Marquez mendapat apresiasi dari Dorna Sport . Kepala Basarnas Marsekal Madya TNI Henri Alfiandi melalui keterangan resmi yang diterima di Mataram Minggu mengatakan apresiasi tersebut diberikan Dorna Sport setelah salah satu pembalap yakni Marc Marquez terjatuh dan membutuhkan proses evakuasi dengan cepat. \\\"Dear Chief convay our appreciation to Indonesia Search & Rescue for the responsiveness in carrying out their duty \\\" kata Henri menyampaikan pesan tertulis Dorna yang disampaikan melalui telepon genggam (HP) dikutip dari Antara Minggu 20 Maret 2022. Henri juga turun langsung ke lapangan meninjau kesiapsiagaan seluruh personel Basarnas dalam melakukan tindakan pertolongan. Jenderal bintang tiga itu juga mengatakan bahwa pihaknya memang perlu terlibat secara langsung dalam MotoGP Mandalika 2022 karena mengundang banyak penonton dan memiliki potensi adanya permintaan pertolongan dari tim SAR. Lebih lanjut ia mengaku sangat bangga dan tidak menduga jika Dorna memilih Basarnas untuk menjadi tim pengamanan SAR selama ajang MotoGP Mandalika berlangsung. \\\"Awalnya mereka sangat tidak percaya begitu disampaikan kemampuan Basarnas Dorna langsung percaya dan meminta Basarnas terlibat secara langsung. Ini merupakan kejutan dan kebanggaan bagi kami terpilih menjadi marshal flag \\\" ujarnya. Dalam kesempatan MotoGP Mandalika Basarnas yang tadinya menyiagakan satu unit helikopter di event perdana diminta untuk menyiapkan dua unit helikopter. Selain itu Basarnas juga menyiagakan Rigid Inflatable Boat (RIB) untuk mengantisipasi semua kejadian yang membutuhkan pelayanan SAR dengan cepat. RIB adalah jenis perahu multipurpose yang bisa di gunakan untuk berbagai keperluan dan dalam berbagai kondisi cuaca. \\\"Kita tidak mengharapkan terjadi insiden apapun namun semua itu di luar kuasa dan Basarnas siap memberikan pelayanan pertolongan sehingga pemerintah dan masyarakat merasa yakin dan aman dengan kehadiran Basarnas di arena balap internasional tersebut \\\" ucap Henri. *** Editor: Karman Sumber: ANTARA\"\n        ],\n        \"semantic_type\": \"\",\n        \"description\": \"\"\n      }\n    },\n    {\n      \"column\": \"sentiment\",\n      \"properties\": {\n        \"dtype\": \"category\",\n        \"num_unique_values\": 3,\n        \"samples\": [\n          \"positive\",\n          \"neutral\",\n          \"negative\"\n        ],\n        \"semantic_type\": \"\",\n        \"description\": \"\"\n      }\n    }\n  ]\n}"
            }
          },
          "metadata": {},
          "execution_count": 11
        }
      ],
      "source": [
        "data = df[['text','sentiment']]\n",
        "data = data.dropna()\n",
        "data.head(1000)"
      ]
    },
    {
      "cell_type": "code",
      "execution_count": 12,
      "metadata": {
        "colab": {
          "base_uri": "https://localhost:8080/"
        },
        "id": "f-8YrBOULNZx",
        "outputId": "c2acaa30-8d01-438c-8a19-65f9069131d1"
      },
      "outputs": [
        {
          "output_type": "execute_result",
          "data": {
            "text/plain": [
              "(1500, 2)"
            ]
          },
          "metadata": {},
          "execution_count": 12
        }
      ],
      "source": [
        "data.shape"
      ]
    },
    {
      "cell_type": "code",
      "execution_count": 13,
      "metadata": {
        "colab": {
          "base_uri": "https://localhost:8080/",
          "height": 146
        },
        "id": "U14iS_wvdCvD",
        "outputId": "0370c45f-fe51-4706-c693-99711d303017"
      },
      "outputs": [
        {
          "output_type": "execute_result",
          "data": {
            "text/plain": [
              "text         object\n",
              "sentiment    object\n",
              "dtype: object"
            ],
            "text/html": [
              "<div>\n",
              "<style scoped>\n",
              "    .dataframe tbody tr th:only-of-type {\n",
              "        vertical-align: middle;\n",
              "    }\n",
              "\n",
              "    .dataframe tbody tr th {\n",
              "        vertical-align: top;\n",
              "    }\n",
              "\n",
              "    .dataframe thead th {\n",
              "        text-align: right;\n",
              "    }\n",
              "</style>\n",
              "<table border=\"1\" class=\"dataframe\">\n",
              "  <thead>\n",
              "    <tr style=\"text-align: right;\">\n",
              "      <th></th>\n",
              "      <th>0</th>\n",
              "    </tr>\n",
              "  </thead>\n",
              "  <tbody>\n",
              "    <tr>\n",
              "      <th>text</th>\n",
              "      <td>object</td>\n",
              "    </tr>\n",
              "    <tr>\n",
              "      <th>sentiment</th>\n",
              "      <td>object</td>\n",
              "    </tr>\n",
              "  </tbody>\n",
              "</table>\n",
              "</div><br><label><b>dtype:</b> object</label>"
            ]
          },
          "metadata": {},
          "execution_count": 13
        }
      ],
      "source": [
        "data.dtypes"
      ]
    },
    {
      "cell_type": "code",
      "execution_count": 14,
      "metadata": {
        "id": "8OMsi_NEdlxh"
      },
      "outputs": [],
      "source": [
        "# Use .loc in a single step to assign values, avoiding chained assignment warnings\n",
        "data.loc[data['sentiment'] == \"positive\", 'sentiment'] = \"positive\"\n",
        "data.loc[data['sentiment'] == \"neutral\", 'sentiment'] = \"neutral\"\n",
        "data.loc[data['sentiment'] == \"negative\", 'sentiment'] = \"negative\"\n",
        "\n",
        "data.reset_index(inplace=True)\n",
        "data.drop('index', axis='columns', inplace=True)"
      ]
    },
    {
      "cell_type": "code",
      "execution_count": 15,
      "metadata": {
        "colab": {
          "base_uri": "https://localhost:8080/",
          "height": 209
        },
        "id": "2NYJLVmleF2O",
        "outputId": "009fb688-0659-4846-bde6-c7600fa3621c"
      },
      "outputs": [
        {
          "output_type": "execute_result",
          "data": {
            "text/plain": [
              "sentiment\n",
              "positive    500\n",
              "neutral     500\n",
              "negative    500\n",
              "Name: count, dtype: int64"
            ],
            "text/html": [
              "<div>\n",
              "<style scoped>\n",
              "    .dataframe tbody tr th:only-of-type {\n",
              "        vertical-align: middle;\n",
              "    }\n",
              "\n",
              "    .dataframe tbody tr th {\n",
              "        vertical-align: top;\n",
              "    }\n",
              "\n",
              "    .dataframe thead th {\n",
              "        text-align: right;\n",
              "    }\n",
              "</style>\n",
              "<table border=\"1\" class=\"dataframe\">\n",
              "  <thead>\n",
              "    <tr style=\"text-align: right;\">\n",
              "      <th></th>\n",
              "      <th>count</th>\n",
              "    </tr>\n",
              "    <tr>\n",
              "      <th>sentiment</th>\n",
              "      <th></th>\n",
              "    </tr>\n",
              "  </thead>\n",
              "  <tbody>\n",
              "    <tr>\n",
              "      <th>positive</th>\n",
              "      <td>500</td>\n",
              "    </tr>\n",
              "    <tr>\n",
              "      <th>neutral</th>\n",
              "      <td>500</td>\n",
              "    </tr>\n",
              "    <tr>\n",
              "      <th>negative</th>\n",
              "      <td>500</td>\n",
              "    </tr>\n",
              "  </tbody>\n",
              "</table>\n",
              "</div><br><label><b>dtype:</b> int64</label>"
            ]
          },
          "metadata": {},
          "execution_count": 15
        }
      ],
      "source": [
        "data.sentiment.value_counts()"
      ]
    },
    {
      "cell_type": "code",
      "execution_count": 16,
      "metadata": {
        "id": "PoD0LZ_4eMsS"
      },
      "outputs": [],
      "source": [
        "def text_sentiment(index):\n",
        "    example = data[data.index == index][['text', 'sentiment']].values[0]\n",
        "    if len(example) > 0:\n",
        "        print(example[0])\n",
        "        print()\n",
        "        print('Category:', example[1])"
      ]
    },
    {
      "cell_type": "code",
      "execution_count": 17,
      "metadata": {
        "colab": {
          "base_uri": "https://localhost:8080/"
        },
        "id": "KVl27VrjeV_-",
        "outputId": "0010660f-40ab-4ee3-dde9-77fc4b003b4d"
      },
      "outputs": [
        {
          "output_type": "stream",
          "name": "stdout",
          "text": [
            "BANDA ACEH  Gubernur Aceh Ir H Nova Iriansyah MT kembali mengeluarkan Instruksi Gubernur (Ingub) tentang Perpanjangan Pemberlakuan Pembatasan Kegiatan Masyarakat (PPKM) Berbasis Mikro Level 4 Level 3 dan Level 2 serta Mengoptimalkan Posko Penanganan Covid19 di Tingkat Gampong untuk Pengendalian Penyebaran Covid19. Ingub Nomor 19 INSTR Tahun 2021 itu ditetapkan pada 7 September 2021 dan berlaku sampai 20 September mendatang. Kepala Biro Humas dan Protokol (Karo Humpro) Setda Aceh Muhammad Iswanto SSTP MM kepada Serambi  Selasa (7/9/2021) mengatakan Instruksi Gubernur itu dikeluarkan menindaklanjuti Instruksi Menteri Dalam Negeri Nomor 40 Tahun 2021 dan Nomor 41 Tahun 2021. \"Ingub itu ditujukan kepada para bupati dan wali kota serta para Kepala Satuan Kerja Perangkat Aceh (SKPA) \" ujarnya. Iswanto menerangkan Ingub tersebut memuat sejumlah ketentuan untuk diterapkan oleh para bupati dan wali kota serta SKPA terkait. Pada poin kesatu disebutkan bahwa bupati/wali kota mengatur PPKM Mikro sampai ke tingkat gampong yang berpotensi menimbulkan penularan Covid19 dengan mempertimbangkan kriteria zonasi pengendalian wilayah hingga tingkat gampong. Menurut Iswanto mekanisme koordinasi pengawasan dan evaluasi pelaksanaan PPKM Mikro dilakukan dengan membentuk Posko Tingkat Gampong bagi gampong yang belum membentuk dan lebih mengoptimalkan peran dan fungsinya. \"Dalam Ingub itu disebutkan bahwa bupati/wali kota akan memberikan sanksi bagi pelanggar PPKM Mikro dan atau protokol kesehatan Covid19 sesuai ketentuan peraturan perundangundangan \" kata Iswanto. Iswanto melanjutkan bupati/wali kota akan memberikan laporan kepada Gubernur tentang Pemberlakuan PPKM Mikro dan pembentukan Posko Tingkat Gampong untuk pengendalian penyebaran Covid 19 serta Pelaksanaan fungsi dari Posko Tingkat Gampong. \"Bupati atau wali kota yang tidak melaksanakan ketentuan dalam Instruksi Gubernur ini akan dikenakan sanksi sesuai dengan UndangUndang Nomor 23 Tahun 2014 tentang Pemerintahan Daerah \" ungkap Iswanto yang juga Kepala Biro Humas dan Protokol (Karo Humpro) Setda Aceh. Iswanto menambahkan untuk pelaku usaha restoran pusat perbelanjaan transportasi umum yang tidak melaksanakan ketentuan Ingub ini juga akan dikenakan sanksi administratif sampai dengan penutupan usaha. \"Setiap orang juga dapat dikenakan sanksi bagi yang melakukan pelanggaran dalam rangka pengendalian wabah penyakit menular sesuai sejumlah ketentuan perundangundangan yang berlaku \" timpal Iswanto. Khusus kepada Wali Kota Banda Aceh serta Bupati Aceh Besar dan Bupati Aceh Tamiang yang wilayahnya masuk PPKM Level 4 selain mengatur PPKM Mikro secara umum juga secara khusus mengatur sebagaimana Diktum Ketiga Keenam Ketujuh Kedelapan dan Kesembilan Intruksi Mendagri dengan mempertimbangkan kearifan lokal dan kondisi kekinian. Kepada Wali Kota Sabang Langsa Lhokseumawe dan Wali Kota Subulussalam yang wilayahnya masuk PPKM level 3 selain mengatur PPKM Mikro secara umum juga secara khusus mengatur seperti Diktum Ke9 Ke12 Ke13 Ke17 dan Diktum Ke18 Instruksi Mendgari dimaksud dengan mempertimbangkan kearifan lokal dan kondisi kekinian. Hal yang sama juga berlaku untuk 12 Bupati yakni Bupati Aceh Barat Aceh Barat Daya Aceh Jaya Aceh Selatan Aceh Singkil Aceh Tengah Bireuen Gayo Lues Nagan Raya Pidie Pidie Jaya dan Bupati Simeulue. Sementara kepada Bupati Aceh Tenggara Aceh Timur Aceh Utara dan Bupati Bener Meriah yang wilayahnya masuk PPKM Level 2 selain mengatur PPKM Mikro secara umum juga secara khusus mengatur sebagaimana Diktum KeduaKelima serta Diktum Ke13 Ke15 Ke17 dan Diktum Ke18 Intruksi Mendagri dimaksud dengan mempertimbangkan kearifan lokal dan kondisi kekinian.\n",
            "\n",
            "Category: positive\n"
          ]
        }
      ],
      "source": [
        "text_sentiment(10)"
      ]
    },
    {
      "cell_type": "markdown",
      "source": [
        "## CLEANING TEXT"
      ],
      "metadata": {
        "id": "0YPk60Aiy7l6"
      }
    },
    {
      "cell_type": "code",
      "execution_count": 18,
      "metadata": {
        "id": "eLfzPzdQe9yo"
      },
      "outputs": [],
      "source": [
        "#DEFINE CLEANING THE TEXT\n",
        "\n",
        "def clean(text) :\n",
        "\n",
        "  text_cleaning_re = \"@\\S+|https?:\\S+|http?:\\S|[#]+|[^A-Za-z0-9]+\"\n",
        "  text_cleaning_hash = \"#[A-Za-z0-9]+\"\n",
        "  text_cleaning_num = \"(^|\\W)\\d+\"\n",
        "  text_cleaning_space = \"xa0\"\n",
        "\n",
        "  text = re.sub(text_cleaning_hash, \" \", str(text)).strip()\n",
        "  text = re.sub(text_cleaning_num, \" \", str(text)).strip()\n",
        "  text = re.sub(text_cleaning_re, \" \", str(text)).strip()\n",
        "  text = re.sub(text_cleaning_space, \" \", str(text)).strip()\n",
        "\n",
        "  text = text.strip()\n",
        "\n",
        "  out = []\n",
        "  for word in text.split() :\n",
        "    out.append(word)\n",
        "\n",
        "  return pytypo.correct_sentence(\" \".join(out).strip())"
      ]
    },
    {
      "cell_type": "code",
      "execution_count": 19,
      "metadata": {
        "id": "ldN4CToxe_Za",
        "colab": {
          "base_uri": "https://localhost:8080/",
          "height": 146
        },
        "outputId": "5421a68c-3c42-42e2-fbb5-bdb13f83800f"
      },
      "outputs": [
        {
          "output_type": "execute_result",
          "data": {
            "text/plain": [
              "text         Sebagai perusahaan asuransi jiwa berbasis digi...\n",
              "sentiment    positive positive positive positive positive n...\n",
              "dtype: object"
            ],
            "text/html": [
              "<div>\n",
              "<style scoped>\n",
              "    .dataframe tbody tr th:only-of-type {\n",
              "        vertical-align: middle;\n",
              "    }\n",
              "\n",
              "    .dataframe tbody tr th {\n",
              "        vertical-align: top;\n",
              "    }\n",
              "\n",
              "    .dataframe thead th {\n",
              "        text-align: right;\n",
              "    }\n",
              "</style>\n",
              "<table border=\"1\" class=\"dataframe\">\n",
              "  <thead>\n",
              "    <tr style=\"text-align: right;\">\n",
              "      <th></th>\n",
              "      <th>0</th>\n",
              "    </tr>\n",
              "  </thead>\n",
              "  <tbody>\n",
              "    <tr>\n",
              "      <th>text</th>\n",
              "      <td>Sebagai perusahaan asuransi jiwa berbasis digi...</td>\n",
              "    </tr>\n",
              "    <tr>\n",
              "      <th>sentiment</th>\n",
              "      <td>positive positive positive positive positive n...</td>\n",
              "    </tr>\n",
              "  </tbody>\n",
              "</table>\n",
              "</div><br><label><b>dtype:</b> object</label>"
            ]
          },
          "metadata": {},
          "execution_count": 19
        }
      ],
      "source": [
        "data.apply(clean)"
      ]
    },
    {
      "cell_type": "markdown",
      "source": [
        "## TOKENIZING"
      ],
      "metadata": {
        "id": "ROTySKo6zFVU"
      }
    },
    {
      "cell_type": "code",
      "execution_count": 20,
      "metadata": {
        "colab": {
          "base_uri": "https://localhost:8080/"
        },
        "id": "G1kmFnv9fI3Y",
        "outputId": "468bf967-aa28-47cc-cafa-7a20073aa228"
      },
      "outputs": [
        {
          "output_type": "stream",
          "name": "stdout",
          "text": [
            "Found 26396 unique tokens.\n"
          ]
        }
      ],
      "source": [
        "# The maximum number of words to be used. (most frequent)\n",
        "MAX_NB_WORDS = 50000\n",
        "# Max number of words in each text\n",
        "MAX_SEQUENCE_LENGTH = 250\n",
        "# This is fixed.\n",
        "EMBEDDING_DIM = 100\n",
        "\n",
        "tokenizer = Tokenizer(num_words=MAX_NB_WORDS, filters='!\"#$%&()*+,-./:;<=>?@[\\]^_`{|}~', lower=True)\n",
        "tokenizer.fit_on_texts(data['text'].values)\n",
        "word_index = tokenizer.word_index\n",
        "print('Found %s unique tokens.' % len(word_index))"
      ]
    },
    {
      "cell_type": "code",
      "execution_count": 21,
      "metadata": {
        "colab": {
          "base_uri": "https://localhost:8080/"
        },
        "id": "_jcP1sYSfQx8",
        "outputId": "6b327fb1-e294-41f7-9f84-ba98092f9f66"
      },
      "outputs": [
        {
          "output_type": "stream",
          "name": "stdout",
          "text": [
            "Shape of data tensor: (1500, 250)\n"
          ]
        }
      ],
      "source": [
        "X = tokenizer.texts_to_sequences(data['text'].values)\n",
        "X = pad_sequences(X, maxlen=MAX_SEQUENCE_LENGTH)\n",
        "print('Shape of data tensor:', X.shape)"
      ]
    },
    {
      "cell_type": "code",
      "source": [
        "# save the tokenizer.pkl\n",
        "\n",
        "with open('/content/drive/MyDrive/LSTM/tokenizer.pkl', 'wb') as f:\n",
        "    pickle.dump(tokenizer, f)"
      ],
      "metadata": {
        "id": "vO0-BypUyJ2H"
      },
      "execution_count": 36,
      "outputs": []
    },
    {
      "cell_type": "code",
      "execution_count": 22,
      "metadata": {
        "colab": {
          "base_uri": "https://localhost:8080/"
        },
        "id": "2thTLY_3fVhX",
        "outputId": "2b7e8cfc-0366-4af9-b35b-4582119f3514"
      },
      "outputs": [
        {
          "output_type": "stream",
          "name": "stdout",
          "text": [
            "Shape of label tensor: (1500, 3)\n"
          ]
        }
      ],
      "source": [
        "Y = pd.get_dummies(data['sentiment']).values\n",
        "print('Shape of label tensor:', Y.shape)"
      ]
    },
    {
      "cell_type": "markdown",
      "source": [
        "## SPLITTING AND MODELING"
      ],
      "metadata": {
        "id": "xu4Q0YXlzR60"
      }
    },
    {
      "cell_type": "code",
      "execution_count": 23,
      "metadata": {
        "colab": {
          "base_uri": "https://localhost:8080/"
        },
        "id": "B2JhpcJ9fJKG",
        "outputId": "5fb83d6d-0a7f-427b-f74c-75a6090fa344"
      },
      "outputs": [
        {
          "output_type": "execute_result",
          "data": {
            "text/plain": [
              "((1425, 250), (1425, 3), (75, 250), (75, 3))"
            ]
          },
          "metadata": {},
          "execution_count": 23
        }
      ],
      "source": [
        "# splitting dataset\n",
        "\n",
        "X_train, X_test, Y_train, Y_test = train_test_split(X,Y, test_size = 0.05, random_state = 30)\n",
        "\n",
        "X_train.shape, Y_train.shape, X_test.shape, Y_test.shape #, X_val.shape, Y_val.shape\n",
        "# print(X_train.shape,Y_train.shape)\n",
        "# print(X_test.shape,Y_test.shape)"
      ]
    },
    {
      "cell_type": "code",
      "execution_count": 24,
      "metadata": {
        "colab": {
          "base_uri": "https://localhost:8080/",
          "height": 356
        },
        "id": "dK5Af16kfhTH",
        "outputId": "0a01b043-79b8-492d-9dee-88c1da0abb6b"
      },
      "outputs": [
        {
          "output_type": "stream",
          "name": "stderr",
          "text": [
            "/usr/local/lib/python3.11/dist-packages/keras/src/layers/core/embedding.py:90: UserWarning:\n",
            "\n",
            "Argument `input_length` is deprecated. Just remove it.\n",
            "\n"
          ]
        },
        {
          "output_type": "display_data",
          "data": {
            "text/plain": [
              "\u001b[1mModel: \"sequential\"\u001b[0m\n"
            ],
            "text/html": [
              "<pre style=\"white-space:pre;overflow-x:auto;line-height:normal;font-family:Menlo,'DejaVu Sans Mono',consolas,'Courier New',monospace\"><span style=\"font-weight: bold\">Model: \"sequential\"</span>\n",
              "</pre>\n"
            ]
          },
          "metadata": {}
        },
        {
          "output_type": "display_data",
          "data": {
            "text/plain": [
              "┏━━━━━━━━━━━━━━━━━━━━━━━━━━━━━━━━━┳━━━━━━━━━━━━━━━━━━━━━━━━┳━━━━━━━━━━━━━━━┓\n",
              "┃\u001b[1m \u001b[0m\u001b[1mLayer (type)                   \u001b[0m\u001b[1m \u001b[0m┃\u001b[1m \u001b[0m\u001b[1mOutput Shape          \u001b[0m\u001b[1m \u001b[0m┃\u001b[1m \u001b[0m\u001b[1m      Param #\u001b[0m\u001b[1m \u001b[0m┃\n",
              "┡━━━━━━━━━━━━━━━━━━━━━━━━━━━━━━━━━╇━━━━━━━━━━━━━━━━━━━━━━━━╇━━━━━━━━━━━━━━━┩\n",
              "│ embedding (\u001b[38;5;33mEmbedding\u001b[0m)           │ ?                      │   \u001b[38;5;34m0\u001b[0m (unbuilt) │\n",
              "├─────────────────────────────────┼────────────────────────┼───────────────┤\n",
              "│ spatial_dropout1d               │ ?                      │             \u001b[38;5;34m0\u001b[0m │\n",
              "│ (\u001b[38;5;33mSpatialDropout1D\u001b[0m)              │                        │               │\n",
              "├─────────────────────────────────┼────────────────────────┼───────────────┤\n",
              "│ lstm (\u001b[38;5;33mLSTM\u001b[0m)                     │ ?                      │   \u001b[38;5;34m0\u001b[0m (unbuilt) │\n",
              "├─────────────────────────────────┼────────────────────────┼───────────────┤\n",
              "│ dense (\u001b[38;5;33mDense\u001b[0m)                   │ ?                      │   \u001b[38;5;34m0\u001b[0m (unbuilt) │\n",
              "└─────────────────────────────────┴────────────────────────┴───────────────┘\n"
            ],
            "text/html": [
              "<pre style=\"white-space:pre;overflow-x:auto;line-height:normal;font-family:Menlo,'DejaVu Sans Mono',consolas,'Courier New',monospace\">┏━━━━━━━━━━━━━━━━━━━━━━━━━━━━━━━━━┳━━━━━━━━━━━━━━━━━━━━━━━━┳━━━━━━━━━━━━━━━┓\n",
              "┃<span style=\"font-weight: bold\"> Layer (type)                    </span>┃<span style=\"font-weight: bold\"> Output Shape           </span>┃<span style=\"font-weight: bold\">       Param # </span>┃\n",
              "┡━━━━━━━━━━━━━━━━━━━━━━━━━━━━━━━━━╇━━━━━━━━━━━━━━━━━━━━━━━━╇━━━━━━━━━━━━━━━┩\n",
              "│ embedding (<span style=\"color: #0087ff; text-decoration-color: #0087ff\">Embedding</span>)           │ ?                      │   <span style=\"color: #00af00; text-decoration-color: #00af00\">0</span> (unbuilt) │\n",
              "├─────────────────────────────────┼────────────────────────┼───────────────┤\n",
              "│ spatial_dropout1d               │ ?                      │             <span style=\"color: #00af00; text-decoration-color: #00af00\">0</span> │\n",
              "│ (<span style=\"color: #0087ff; text-decoration-color: #0087ff\">SpatialDropout1D</span>)              │                        │               │\n",
              "├─────────────────────────────────┼────────────────────────┼───────────────┤\n",
              "│ lstm (<span style=\"color: #0087ff; text-decoration-color: #0087ff\">LSTM</span>)                     │ ?                      │   <span style=\"color: #00af00; text-decoration-color: #00af00\">0</span> (unbuilt) │\n",
              "├─────────────────────────────────┼────────────────────────┼───────────────┤\n",
              "│ dense (<span style=\"color: #0087ff; text-decoration-color: #0087ff\">Dense</span>)                   │ ?                      │   <span style=\"color: #00af00; text-decoration-color: #00af00\">0</span> (unbuilt) │\n",
              "└─────────────────────────────────┴────────────────────────┴───────────────┘\n",
              "</pre>\n"
            ]
          },
          "metadata": {}
        },
        {
          "output_type": "display_data",
          "data": {
            "text/plain": [
              "\u001b[1m Total params: \u001b[0m\u001b[38;5;34m0\u001b[0m (0.00 B)\n"
            ],
            "text/html": [
              "<pre style=\"white-space:pre;overflow-x:auto;line-height:normal;font-family:Menlo,'DejaVu Sans Mono',consolas,'Courier New',monospace\"><span style=\"font-weight: bold\"> Total params: </span><span style=\"color: #00af00; text-decoration-color: #00af00\">0</span> (0.00 B)\n",
              "</pre>\n"
            ]
          },
          "metadata": {}
        },
        {
          "output_type": "display_data",
          "data": {
            "text/plain": [
              "\u001b[1m Trainable params: \u001b[0m\u001b[38;5;34m0\u001b[0m (0.00 B)\n"
            ],
            "text/html": [
              "<pre style=\"white-space:pre;overflow-x:auto;line-height:normal;font-family:Menlo,'DejaVu Sans Mono',consolas,'Courier New',monospace\"><span style=\"font-weight: bold\"> Trainable params: </span><span style=\"color: #00af00; text-decoration-color: #00af00\">0</span> (0.00 B)\n",
              "</pre>\n"
            ]
          },
          "metadata": {}
        },
        {
          "output_type": "display_data",
          "data": {
            "text/plain": [
              "\u001b[1m Non-trainable params: \u001b[0m\u001b[38;5;34m0\u001b[0m (0.00 B)\n"
            ],
            "text/html": [
              "<pre style=\"white-space:pre;overflow-x:auto;line-height:normal;font-family:Menlo,'DejaVu Sans Mono',consolas,'Courier New',monospace\"><span style=\"font-weight: bold\"> Non-trainable params: </span><span style=\"color: #00af00; text-decoration-color: #00af00\">0</span> (0.00 B)\n",
              "</pre>\n"
            ]
          },
          "metadata": {}
        },
        {
          "output_type": "stream",
          "name": "stdout",
          "text": [
            "None\n"
          ]
        }
      ],
      "source": [
        "model = Sequential()\n",
        "model.add(Embedding(MAX_NB_WORDS, EMBEDDING_DIM, input_length = X.shape[1]))\n",
        "model.add(SpatialDropout1D(0.2))\n",
        "model.add(LSTM(100, dropout = 0.2, recurrent_dropout = 0.2))\n",
        "model.add(Dense(3, activation = 'softmax'))\n",
        "model.compile(loss = 'categorical_crossentropy', optimizer = 'adam', metrics = ['accuracy'])\n",
        "print(model.summary())"
      ]
    },
    {
      "cell_type": "code",
      "execution_count": 25,
      "metadata": {
        "id": "Y8Ftrk9UfrTp",
        "colab": {
          "base_uri": "https://localhost:8080/"
        },
        "outputId": "8173edf2-8d01-4481-b46d-7368b0e150eb"
      },
      "outputs": [
        {
          "output_type": "stream",
          "name": "stdout",
          "text": [
            "Epoch 1/5\n",
            "21/21 - 41s - 2s/step - accuracy: 0.3697 - loss: 1.0943 - val_accuracy: 0.5175 - val_loss: 1.0801\n",
            "Epoch 2/5\n",
            "21/21 - 27s - 1s/step - accuracy: 0.6349 - loss: 0.9898 - val_accuracy: 0.5315 - val_loss: 0.9795\n",
            "Epoch 3/5\n",
            "21/21 - 20s - 939ms/step - accuracy: 0.7605 - loss: 0.7409 - val_accuracy: 0.5664 - val_loss: 0.9216\n",
            "Epoch 4/5\n",
            "21/21 - 21s - 1s/step - accuracy: 0.8768 - loss: 0.5015 - val_accuracy: 0.5944 - val_loss: 0.9145\n",
            "Epoch 5/5\n",
            "21/21 - 20s - 956ms/step - accuracy: 0.9173 - loss: 0.2900 - val_accuracy: 0.6364 - val_loss: 0.9348\n"
          ]
        }
      ],
      "source": [
        "epochs = 5\n",
        "batch_size = 64\n",
        "callbacks = EarlyStopping(monitor = 'val_loss', patience = 3, min_delta = 0.0001)\n",
        "\n",
        "history = model.fit(X_train, Y_train, epochs = epochs, batch_size = batch_size, validation_split = 0.1, verbose = 2)"
      ]
    },
    {
      "cell_type": "code",
      "execution_count": 26,
      "metadata": {
        "colab": {
          "base_uri": "https://localhost:8080/"
        },
        "id": "P_-IxBe8iMVx",
        "outputId": "31e09119-d9c0-42ce-9801-d27d6746fc61"
      },
      "outputs": [
        {
          "output_type": "stream",
          "name": "stdout",
          "text": [
            "\u001b[1m3/3\u001b[0m \u001b[32m━━━━━━━━━━━━━━━━━━━━\u001b[0m\u001b[37m\u001b[0m \u001b[1m0s\u001b[0m 147ms/step - accuracy: 0.7550 - loss: 0.6352\n",
            "Test set\n",
            "  Loss: 0.619\n",
            "  Accuracy: 0.760\n"
          ]
        }
      ],
      "source": [
        "accr = model.evaluate(X_test, Y_test)\n",
        "print('Test set\\n  Loss: {:0.3f}\\n  Accuracy: {:0.3f}'.format(accr[0],accr[1]))"
      ]
    },
    {
      "cell_type": "code",
      "execution_count": 27,
      "metadata": {
        "colab": {
          "base_uri": "https://localhost:8080/",
          "height": 541
        },
        "id": "yxqOoCcjiM22",
        "outputId": "1fb20ef9-fa00-4439-9eed-477f9308bc78"
      },
      "outputs": [
        {
          "output_type": "stream",
          "name": "stderr",
          "text": [
            "<ipython-input-27-b001209db311>:6: UserWarning:\n",
            "\n",
            "No artists with labels found to put in legend.  Note that artists whose label start with an underscore are ignored when legend() is called with no argument.\n",
            "\n"
          ]
        },
        {
          "output_type": "display_data",
          "data": {
            "text/plain": [
              "<Figure size 640x480 with 1 Axes>"
            ],
            "image/png": "[encoded data removed]"
          },
          "metadata": {}
        }
      ],
      "source": [
        "plt.title('Loss')\n",
        "plt.plot(history.history['loss'], 'g')\n",
        "plt.plot(history.history['val_loss'], 'b')\n",
        "plt.xlabel('Epochs')\n",
        "plt.ylabel('Loss')\n",
        "plt.legend()\n",
        "plt.show();"
      ]
    },
    {
      "cell_type": "code",
      "execution_count": 28,
      "metadata": {
        "colab": {
          "base_uri": "https://localhost:8080/",
          "height": 541
        },
        "id": "j__2FdE6iPaG",
        "outputId": "f6ea8d51-808d-43bf-d416-a46743f7ee86"
      },
      "outputs": [
        {
          "output_type": "stream",
          "name": "stderr",
          "text": [
            "<ipython-input-28-dd865d02a897>:6: UserWarning:\n",
            "\n",
            "No artists with labels found to put in legend.  Note that artists whose label start with an underscore are ignored when legend() is called with no argument.\n",
            "\n"
          ]
        },
        {
          "output_type": "display_data",
          "data": {
            "text/plain": [
              "<Figure size 640x480 with 1 Axes>"
            ],
            "image/png": "[encoded data removed]"
          },
          "metadata": {}
        }
      ],
      "source": [
        "plt.title('Accuracy')\n",
        "plt.plot(history.history['accuracy'], 'g')\n",
        "plt.plot(history.history['val_accuracy'], 'b')\n",
        "plt.xlabel('Epochs')\n",
        "plt.ylabel('Accuracy')\n",
        "plt.legend()\n",
        "plt.show();"
      ]
    },
    {
      "cell_type": "code",
      "execution_count": 29,
      "metadata": {
        "colab": {
          "base_uri": "https://localhost:8080/"
        },
        "id": "kK6ZhZ_ciREe",
        "outputId": "2e21636b-c931-405d-eee1-c89b1ab8ba24"
      },
      "outputs": [
        {
          "output_type": "stream",
          "name": "stdout",
          "text": [
            "\u001b[1m1/1\u001b[0m \u001b[32m━━━━━━━━━━━━━━━━━━━━\u001b[0m\u001b[37m\u001b[0m \u001b[1m1s\u001b[0m 536ms/step\n",
            "[[0.00260159 0.00141986 0.9959785 ]] negative\n"
          ]
        }
      ],
      "source": [
        "text = ['Koarmada I Pangkalan TNI Angkatan Laut (Lanal) Tanjung Balai Asahan berhasil menggagalkan kapal jenis sampan kaluk yang menyelundupkan narkoba melalui alur Sungai Bagan Asahan Selasa (21/06/2022) Tim Satgas Intelijen Lanal TBA menerima informasi bahwa akan melintas sebuah perahu jenis sampan kaluk dengan ciri-ciri berwarna lambung lis biru laut. Tim adakan briefing dan langsung melakukan patroli di sekitar alur sungai bagan Asahan. Di pagi hari Tim Satgas Lanal TBA mencurigai sebuah kapal yang sesuai ciri-ciri dari informasi yang diterima maka Patkamla melakukan pengejaran dan pemberhentian terhadap kapal tersebut. Setelah diadakan pemeriksaan muatan kapal ditemukan kotak fiber warna kuning diduga berisi 19.980 gram ekstasi dan 29 bungkus sabu-sabu. Selanjutnya Kapal dibawa menuju ke Lanal Tanjung Balai Asahan guna pemeriksaan lebih lanjut. Panglima Koarmada I (Pangkoarmada I) Laksamana Muda TNI Arsyad Abdullah secara terpisah mengatakan \"Dalam melaksanakan tugas penegakan kedaulatan dan hukum serta menjaga keamanan dan keselamatan di laut TNI Angkatan laut senantiasa melakukan secara profesional dan proporsional\" Dikatakan lebih lanjut bahwa komitmen TNI AL sudah sangat jelas dan tegas tidak ada kompromi dengan segala bentuk upaya yang mengancam kedaulatan termasuk tindak pidana dan pelanggaran di Laut. \"Dengan menggagalkan kapal jenis sampan kaluk untuk menyelundupkan narkoba merupakan salah satu bentuk kehadiran TNI Angkatan Laut melakukan Patroli guna mencegah segala bentuk pelanggaran sesuai dengan komitmen Kepala Staf TNI Angkatan Laut Laksamana TNI Yudo Margono\" pungkasnya. ***']\n",
        "seq = tokenizer.texts_to_sequences(text)\n",
        "padded = pad_sequences(seq, maxlen = MAX_SEQUENCE_LENGTH)\n",
        "pred = model.predict(padded)\n",
        "sentiment = ['positive', 'neutral', 'negative']\n",
        "print(pred, sentiment[np.argmax(pred)])"
      ]
    },
    {
      "cell_type": "code",
      "execution_count": 30,
      "metadata": {
        "colab": {
          "base_uri": "https://localhost:8080/",
          "height": 455
        },
        "id": "XrqGhOJwARfb",
        "outputId": "ec998027-b567-400e-c39a-8ad05edb39ca"
      },
      "outputs": [
        {
          "output_type": "display_data",
          "data": {
            "text/plain": [
              "<Figure size 640x480 with 2 Axes>"
            ],
            "image/png": "[encoded data removed]"
          },
          "metadata": {}
        }
      ],
      "source": [
        "from sklearn.metrics import confusion_matrix, ConfusionMatrixDisplay\n",
        "import matplotlib.pyplot as plt\n",
        "\n",
        "labels = ['positve', 'neutral', 'negative']\n",
        "Y_train = Y_train.reshape(75,57)\n",
        "\n",
        "cm = confusion_matrix(Y_test.argmax(axis=1), Y_train.argmax(axis=1))\n",
        "cm_display = ConfusionMatrixDisplay(cm, display_labels = labels).plot()"
      ]
    },
    {
      "cell_type": "markdown",
      "source": [
        "## SAVE THE MODEL"
      ],
      "metadata": {
        "id": "l28bCuNvyaUK"
      }
    },
    {
      "cell_type": "code",
      "source": [
        "model.save('/content/drive/MyDrive/LSTM/model.keras')"
      ],
      "metadata": {
        "id": "wfIpqhSnxwWi"
      },
      "execution_count": 33,
      "outputs": []
    }
  ],
  "metadata": {
    "colab": {
      "provenance": [],
      "gpuType": "T4"
    },
    "kernelspec": {
      "display_name": "Python 3",
      "name": "python3"
    },
    "language_info": {
      "name": "python"
    },
    "accelerator": "GPU"
  },
  "nbformat": 4,
  "nbformat_minor": 0
}